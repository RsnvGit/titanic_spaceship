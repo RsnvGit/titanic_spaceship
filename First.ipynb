{
 "cells": [
  {
   "cell_type": "markdown",
   "id": "6c8588a0",
   "metadata": {},
   "source": [
    "### All important libraries are imported below"
   ]
  },
  {
   "cell_type": "code",
   "execution_count": 62,
   "id": "bff7cf60",
   "metadata": {},
   "outputs": [],
   "source": [
    "import pandas as pd \n",
    "import numpy as np\n",
    "import seaborn as sns\n",
    "import xgboost as xgb\n",
    "from sklearn.model_selection import cross_val_score,GridSearchCV\n",
    "from sklearn.metrics import accuracy_score,confusion_matrix,precision_score,recall_score,f1_score"
   ]
  },
  {
   "cell_type": "code",
   "execution_count": 63,
   "id": "3ac9cb7f",
   "metadata": {},
   "outputs": [],
   "source": [
    "# reads test and train data\n",
    "df_train=pd.read_csv('data/train.csv')\n",
    "df_test=pd.read_csv('data/test.csv')"
   ]
  },
  {
   "cell_type": "code",
   "execution_count": 64,
   "id": "0ae378ac",
   "metadata": {},
   "outputs": [
    {
     "data": {
      "text/html": [
       "<div>\n",
       "<style scoped>\n",
       "    .dataframe tbody tr th:only-of-type {\n",
       "        vertical-align: middle;\n",
       "    }\n",
       "\n",
       "    .dataframe tbody tr th {\n",
       "        vertical-align: top;\n",
       "    }\n",
       "\n",
       "    .dataframe thead th {\n",
       "        text-align: right;\n",
       "    }\n",
       "</style>\n",
       "<table border=\"1\" class=\"dataframe\">\n",
       "  <thead>\n",
       "    <tr style=\"text-align: right;\">\n",
       "      <th></th>\n",
       "      <th>PassengerId</th>\n",
       "      <th>HomePlanet</th>\n",
       "      <th>CryoSleep</th>\n",
       "      <th>Cabin</th>\n",
       "      <th>Destination</th>\n",
       "      <th>Age</th>\n",
       "      <th>VIP</th>\n",
       "      <th>RoomService</th>\n",
       "      <th>FoodCourt</th>\n",
       "      <th>ShoppingMall</th>\n",
       "      <th>Spa</th>\n",
       "      <th>VRDeck</th>\n",
       "      <th>Name</th>\n",
       "      <th>Transported</th>\n",
       "    </tr>\n",
       "  </thead>\n",
       "  <tbody>\n",
       "    <tr>\n",
       "      <th>0</th>\n",
       "      <td>0001_01</td>\n",
       "      <td>Europa</td>\n",
       "      <td>False</td>\n",
       "      <td>B/0/P</td>\n",
       "      <td>TRAPPIST-1e</td>\n",
       "      <td>39.0</td>\n",
       "      <td>False</td>\n",
       "      <td>0.0</td>\n",
       "      <td>0.0</td>\n",
       "      <td>0.0</td>\n",
       "      <td>0.0</td>\n",
       "      <td>0.0</td>\n",
       "      <td>Maham Ofracculy</td>\n",
       "      <td>False</td>\n",
       "    </tr>\n",
       "    <tr>\n",
       "      <th>1</th>\n",
       "      <td>0002_01</td>\n",
       "      <td>Earth</td>\n",
       "      <td>False</td>\n",
       "      <td>F/0/S</td>\n",
       "      <td>TRAPPIST-1e</td>\n",
       "      <td>24.0</td>\n",
       "      <td>False</td>\n",
       "      <td>109.0</td>\n",
       "      <td>9.0</td>\n",
       "      <td>25.0</td>\n",
       "      <td>549.0</td>\n",
       "      <td>44.0</td>\n",
       "      <td>Juanna Vines</td>\n",
       "      <td>True</td>\n",
       "    </tr>\n",
       "    <tr>\n",
       "      <th>2</th>\n",
       "      <td>0003_01</td>\n",
       "      <td>Europa</td>\n",
       "      <td>False</td>\n",
       "      <td>A/0/S</td>\n",
       "      <td>TRAPPIST-1e</td>\n",
       "      <td>58.0</td>\n",
       "      <td>True</td>\n",
       "      <td>43.0</td>\n",
       "      <td>3576.0</td>\n",
       "      <td>0.0</td>\n",
       "      <td>6715.0</td>\n",
       "      <td>49.0</td>\n",
       "      <td>Altark Susent</td>\n",
       "      <td>False</td>\n",
       "    </tr>\n",
       "    <tr>\n",
       "      <th>3</th>\n",
       "      <td>0003_02</td>\n",
       "      <td>Europa</td>\n",
       "      <td>False</td>\n",
       "      <td>A/0/S</td>\n",
       "      <td>TRAPPIST-1e</td>\n",
       "      <td>33.0</td>\n",
       "      <td>False</td>\n",
       "      <td>0.0</td>\n",
       "      <td>1283.0</td>\n",
       "      <td>371.0</td>\n",
       "      <td>3329.0</td>\n",
       "      <td>193.0</td>\n",
       "      <td>Solam Susent</td>\n",
       "      <td>False</td>\n",
       "    </tr>\n",
       "    <tr>\n",
       "      <th>4</th>\n",
       "      <td>0004_01</td>\n",
       "      <td>Earth</td>\n",
       "      <td>False</td>\n",
       "      <td>F/1/S</td>\n",
       "      <td>TRAPPIST-1e</td>\n",
       "      <td>16.0</td>\n",
       "      <td>False</td>\n",
       "      <td>303.0</td>\n",
       "      <td>70.0</td>\n",
       "      <td>151.0</td>\n",
       "      <td>565.0</td>\n",
       "      <td>2.0</td>\n",
       "      <td>Willy Santantines</td>\n",
       "      <td>True</td>\n",
       "    </tr>\n",
       "    <tr>\n",
       "      <th>...</th>\n",
       "      <td>...</td>\n",
       "      <td>...</td>\n",
       "      <td>...</td>\n",
       "      <td>...</td>\n",
       "      <td>...</td>\n",
       "      <td>...</td>\n",
       "      <td>...</td>\n",
       "      <td>...</td>\n",
       "      <td>...</td>\n",
       "      <td>...</td>\n",
       "      <td>...</td>\n",
       "      <td>...</td>\n",
       "      <td>...</td>\n",
       "      <td>...</td>\n",
       "    </tr>\n",
       "    <tr>\n",
       "      <th>8688</th>\n",
       "      <td>9276_01</td>\n",
       "      <td>Europa</td>\n",
       "      <td>False</td>\n",
       "      <td>A/98/P</td>\n",
       "      <td>55 Cancri e</td>\n",
       "      <td>41.0</td>\n",
       "      <td>True</td>\n",
       "      <td>0.0</td>\n",
       "      <td>6819.0</td>\n",
       "      <td>0.0</td>\n",
       "      <td>1643.0</td>\n",
       "      <td>74.0</td>\n",
       "      <td>Gravior Noxnuther</td>\n",
       "      <td>False</td>\n",
       "    </tr>\n",
       "    <tr>\n",
       "      <th>8689</th>\n",
       "      <td>9278_01</td>\n",
       "      <td>Earth</td>\n",
       "      <td>True</td>\n",
       "      <td>G/1499/S</td>\n",
       "      <td>PSO J318.5-22</td>\n",
       "      <td>18.0</td>\n",
       "      <td>False</td>\n",
       "      <td>0.0</td>\n",
       "      <td>0.0</td>\n",
       "      <td>0.0</td>\n",
       "      <td>0.0</td>\n",
       "      <td>0.0</td>\n",
       "      <td>Kurta Mondalley</td>\n",
       "      <td>False</td>\n",
       "    </tr>\n",
       "    <tr>\n",
       "      <th>8690</th>\n",
       "      <td>9279_01</td>\n",
       "      <td>Earth</td>\n",
       "      <td>False</td>\n",
       "      <td>G/1500/S</td>\n",
       "      <td>TRAPPIST-1e</td>\n",
       "      <td>26.0</td>\n",
       "      <td>False</td>\n",
       "      <td>0.0</td>\n",
       "      <td>0.0</td>\n",
       "      <td>1872.0</td>\n",
       "      <td>1.0</td>\n",
       "      <td>0.0</td>\n",
       "      <td>Fayey Connon</td>\n",
       "      <td>True</td>\n",
       "    </tr>\n",
       "    <tr>\n",
       "      <th>8691</th>\n",
       "      <td>9280_01</td>\n",
       "      <td>Europa</td>\n",
       "      <td>False</td>\n",
       "      <td>E/608/S</td>\n",
       "      <td>55 Cancri e</td>\n",
       "      <td>32.0</td>\n",
       "      <td>False</td>\n",
       "      <td>0.0</td>\n",
       "      <td>1049.0</td>\n",
       "      <td>0.0</td>\n",
       "      <td>353.0</td>\n",
       "      <td>3235.0</td>\n",
       "      <td>Celeon Hontichre</td>\n",
       "      <td>False</td>\n",
       "    </tr>\n",
       "    <tr>\n",
       "      <th>8692</th>\n",
       "      <td>9280_02</td>\n",
       "      <td>Europa</td>\n",
       "      <td>False</td>\n",
       "      <td>E/608/S</td>\n",
       "      <td>TRAPPIST-1e</td>\n",
       "      <td>44.0</td>\n",
       "      <td>False</td>\n",
       "      <td>126.0</td>\n",
       "      <td>4688.0</td>\n",
       "      <td>0.0</td>\n",
       "      <td>0.0</td>\n",
       "      <td>12.0</td>\n",
       "      <td>Propsh Hontichre</td>\n",
       "      <td>True</td>\n",
       "    </tr>\n",
       "  </tbody>\n",
       "</table>\n",
       "<p>8693 rows × 14 columns</p>\n",
       "</div>"
      ],
      "text/plain": [
       "     PassengerId HomePlanet CryoSleep     Cabin    Destination   Age    VIP  \\\n",
       "0        0001_01     Europa     False     B/0/P    TRAPPIST-1e  39.0  False   \n",
       "1        0002_01      Earth     False     F/0/S    TRAPPIST-1e  24.0  False   \n",
       "2        0003_01     Europa     False     A/0/S    TRAPPIST-1e  58.0   True   \n",
       "3        0003_02     Europa     False     A/0/S    TRAPPIST-1e  33.0  False   \n",
       "4        0004_01      Earth     False     F/1/S    TRAPPIST-1e  16.0  False   \n",
       "...          ...        ...       ...       ...            ...   ...    ...   \n",
       "8688     9276_01     Europa     False    A/98/P    55 Cancri e  41.0   True   \n",
       "8689     9278_01      Earth      True  G/1499/S  PSO J318.5-22  18.0  False   \n",
       "8690     9279_01      Earth     False  G/1500/S    TRAPPIST-1e  26.0  False   \n",
       "8691     9280_01     Europa     False   E/608/S    55 Cancri e  32.0  False   \n",
       "8692     9280_02     Europa     False   E/608/S    TRAPPIST-1e  44.0  False   \n",
       "\n",
       "      RoomService  FoodCourt  ShoppingMall     Spa  VRDeck               Name  \\\n",
       "0             0.0        0.0           0.0     0.0     0.0    Maham Ofracculy   \n",
       "1           109.0        9.0          25.0   549.0    44.0       Juanna Vines   \n",
       "2            43.0     3576.0           0.0  6715.0    49.0      Altark Susent   \n",
       "3             0.0     1283.0         371.0  3329.0   193.0       Solam Susent   \n",
       "4           303.0       70.0         151.0   565.0     2.0  Willy Santantines   \n",
       "...           ...        ...           ...     ...     ...                ...   \n",
       "8688          0.0     6819.0           0.0  1643.0    74.0  Gravior Noxnuther   \n",
       "8689          0.0        0.0           0.0     0.0     0.0    Kurta Mondalley   \n",
       "8690          0.0        0.0        1872.0     1.0     0.0       Fayey Connon   \n",
       "8691          0.0     1049.0           0.0   353.0  3235.0   Celeon Hontichre   \n",
       "8692        126.0     4688.0           0.0     0.0    12.0   Propsh Hontichre   \n",
       "\n",
       "      Transported  \n",
       "0           False  \n",
       "1            True  \n",
       "2           False  \n",
       "3           False  \n",
       "4            True  \n",
       "...           ...  \n",
       "8688        False  \n",
       "8689        False  \n",
       "8690         True  \n",
       "8691        False  \n",
       "8692         True  \n",
       "\n",
       "[8693 rows x 14 columns]"
      ]
     },
     "execution_count": 64,
     "metadata": {},
     "output_type": "execute_result"
    }
   ],
   "source": [
    "# overview the data what columns they have \n",
    "df_train"
   ]
  },
  {
   "cell_type": "code",
   "execution_count": 65,
   "id": "ddd4d701",
   "metadata": {},
   "outputs": [
    {
     "data": {
      "text/plain": [
       "PassengerId       0\n",
       "HomePlanet      201\n",
       "CryoSleep       217\n",
       "Cabin           199\n",
       "Destination     182\n",
       "Age             179\n",
       "VIP             203\n",
       "RoomService     181\n",
       "FoodCourt       183\n",
       "ShoppingMall    208\n",
       "Spa             183\n",
       "VRDeck          188\n",
       "Name            200\n",
       "Transported       0\n",
       "dtype: int64"
      ]
     },
     "execution_count": 65,
     "metadata": {},
     "output_type": "execute_result"
    }
   ],
   "source": [
    "# counts of each null column \n",
    "df_train.isnull().sum()"
   ]
  },
  {
   "cell_type": "markdown",
   "id": "685c3ee4",
   "metadata": {},
   "source": [
    "# shows the distribution of values of each column"
   ]
  },
  {
   "cell_type": "code",
   "execution_count": 66,
   "id": "3b60dbe9",
   "metadata": {},
   "outputs": [
    {
     "data": {
      "text/plain": [
       "0001_01    1\n",
       "6136_01    1\n",
       "6141_01    1\n",
       "6139_06    1\n",
       "6139_05    1\n",
       "          ..\n",
       "3126_01    1\n",
       "3124_03    1\n",
       "3124_02    1\n",
       "3124_01    1\n",
       "9280_02    1\n",
       "Name: PassengerId, Length: 8693, dtype: int64"
      ]
     },
     "metadata": {},
     "output_type": "display_data"
    },
    {
     "data": {
      "text/plain": [
       "0001_01    1\n",
       "6136_01    1\n",
       "6141_01    1\n",
       "6139_06    1\n",
       "6139_05    1\n",
       "          ..\n",
       "3126_01    1\n",
       "3124_03    1\n",
       "3124_02    1\n",
       "3124_01    1\n",
       "9280_02    1\n",
       "Name: PassengerId, Length: 8693, dtype: int64"
      ]
     },
     "metadata": {},
     "output_type": "display_data"
    },
    {
     "name": "stdout",
     "output_type": "stream",
     "text": [
      "\n"
     ]
    },
    {
     "data": {
      "text/plain": [
       "Earth     4602\n",
       "Europa    2131\n",
       "Mars      1759\n",
       "Name: HomePlanet, dtype: int64"
      ]
     },
     "metadata": {},
     "output_type": "display_data"
    },
    {
     "data": {
      "text/plain": [
       "Earth     4602\n",
       "Europa    2131\n",
       "Mars      1759\n",
       "Name: HomePlanet, dtype: int64"
      ]
     },
     "metadata": {},
     "output_type": "display_data"
    },
    {
     "name": "stdout",
     "output_type": "stream",
     "text": [
      "\n"
     ]
    },
    {
     "data": {
      "text/plain": [
       "False    5439\n",
       "True     3037\n",
       "Name: CryoSleep, dtype: int64"
      ]
     },
     "metadata": {},
     "output_type": "display_data"
    },
    {
     "data": {
      "text/plain": [
       "False    5439\n",
       "True     3037\n",
       "Name: CryoSleep, dtype: int64"
      ]
     },
     "metadata": {},
     "output_type": "display_data"
    },
    {
     "name": "stdout",
     "output_type": "stream",
     "text": [
      "\n"
     ]
    },
    {
     "data": {
      "text/plain": [
       "G/734/S     8\n",
       "G/109/P     7\n",
       "B/201/P     7\n",
       "G/1368/P    7\n",
       "G/981/S     7\n",
       "           ..\n",
       "G/556/P     1\n",
       "E/231/S     1\n",
       "G/545/S     1\n",
       "G/543/S     1\n",
       "F/947/P     1\n",
       "Name: Cabin, Length: 6560, dtype: int64"
      ]
     },
     "metadata": {},
     "output_type": "display_data"
    },
    {
     "data": {
      "text/plain": [
       "G/734/S     8\n",
       "G/109/P     7\n",
       "B/201/P     7\n",
       "G/1368/P    7\n",
       "G/981/S     7\n",
       "           ..\n",
       "G/556/P     1\n",
       "E/231/S     1\n",
       "G/545/S     1\n",
       "G/543/S     1\n",
       "F/947/P     1\n",
       "Name: Cabin, Length: 6560, dtype: int64"
      ]
     },
     "metadata": {},
     "output_type": "display_data"
    },
    {
     "name": "stdout",
     "output_type": "stream",
     "text": [
      "\n"
     ]
    },
    {
     "data": {
      "text/plain": [
       "TRAPPIST-1e      5915\n",
       "55 Cancri e      1800\n",
       "PSO J318.5-22     796\n",
       "Name: Destination, dtype: int64"
      ]
     },
     "metadata": {},
     "output_type": "display_data"
    },
    {
     "data": {
      "text/plain": [
       "TRAPPIST-1e      5915\n",
       "55 Cancri e      1800\n",
       "PSO J318.5-22     796\n",
       "Name: Destination, dtype: int64"
      ]
     },
     "metadata": {},
     "output_type": "display_data"
    },
    {
     "name": "stdout",
     "output_type": "stream",
     "text": [
      "\n"
     ]
    },
    {
     "data": {
      "text/plain": [
       "24.0    324\n",
       "18.0    320\n",
       "21.0    311\n",
       "19.0    293\n",
       "23.0    292\n",
       "       ... \n",
       "72.0      4\n",
       "78.0      3\n",
       "79.0      3\n",
       "76.0      2\n",
       "77.0      2\n",
       "Name: Age, Length: 80, dtype: int64"
      ]
     },
     "metadata": {},
     "output_type": "display_data"
    },
    {
     "data": {
      "text/plain": [
       "24.0    324\n",
       "18.0    320\n",
       "21.0    311\n",
       "19.0    293\n",
       "23.0    292\n",
       "       ... \n",
       "72.0      4\n",
       "78.0      3\n",
       "79.0      3\n",
       "76.0      2\n",
       "77.0      2\n",
       "Name: Age, Length: 80, dtype: int64"
      ]
     },
     "metadata": {},
     "output_type": "display_data"
    },
    {
     "name": "stdout",
     "output_type": "stream",
     "text": [
      "\n"
     ]
    },
    {
     "data": {
      "text/plain": [
       "False    8291\n",
       "True      199\n",
       "Name: VIP, dtype: int64"
      ]
     },
     "metadata": {},
     "output_type": "display_data"
    },
    {
     "data": {
      "text/plain": [
       "False    8291\n",
       "True      199\n",
       "Name: VIP, dtype: int64"
      ]
     },
     "metadata": {},
     "output_type": "display_data"
    },
    {
     "name": "stdout",
     "output_type": "stream",
     "text": [
      "\n"
     ]
    },
    {
     "data": {
      "text/plain": [
       "0.0       5577\n",
       "1.0        117\n",
       "2.0         79\n",
       "3.0         61\n",
       "4.0         47\n",
       "          ... \n",
       "1612.0       1\n",
       "2598.0       1\n",
       "632.0        1\n",
       "378.0        1\n",
       "745.0        1\n",
       "Name: RoomService, Length: 1273, dtype: int64"
      ]
     },
     "metadata": {},
     "output_type": "display_data"
    },
    {
     "data": {
      "text/plain": [
       "0.0       5577\n",
       "1.0        117\n",
       "2.0         79\n",
       "3.0         61\n",
       "4.0         47\n",
       "          ... \n",
       "1612.0       1\n",
       "2598.0       1\n",
       "632.0        1\n",
       "378.0        1\n",
       "745.0        1\n",
       "Name: RoomService, Length: 1273, dtype: int64"
      ]
     },
     "metadata": {},
     "output_type": "display_data"
    },
    {
     "name": "stdout",
     "output_type": "stream",
     "text": [
      "\n"
     ]
    },
    {
     "data": {
      "text/plain": [
       "0.0       5456\n",
       "1.0        116\n",
       "2.0         75\n",
       "3.0         53\n",
       "4.0         53\n",
       "          ... \n",
       "3846.0       1\n",
       "5193.0       1\n",
       "312.0        1\n",
       "827.0        1\n",
       "4688.0       1\n",
       "Name: FoodCourt, Length: 1507, dtype: int64"
      ]
     },
     "metadata": {},
     "output_type": "display_data"
    },
    {
     "data": {
      "text/plain": [
       "0.0       5456\n",
       "1.0        116\n",
       "2.0         75\n",
       "3.0         53\n",
       "4.0         53\n",
       "          ... \n",
       "3846.0       1\n",
       "5193.0       1\n",
       "312.0        1\n",
       "827.0        1\n",
       "4688.0       1\n",
       "Name: FoodCourt, Length: 1507, dtype: int64"
      ]
     },
     "metadata": {},
     "output_type": "display_data"
    },
    {
     "name": "stdout",
     "output_type": "stream",
     "text": [
      "\n"
     ]
    },
    {
     "data": {
      "text/plain": [
       "0.0       5587\n",
       "1.0        153\n",
       "2.0         80\n",
       "3.0         59\n",
       "4.0         45\n",
       "          ... \n",
       "3627.0       1\n",
       "2074.0       1\n",
       "871.0        1\n",
       "742.0        1\n",
       "1872.0       1\n",
       "Name: ShoppingMall, Length: 1115, dtype: int64"
      ]
     },
     "metadata": {},
     "output_type": "display_data"
    },
    {
     "data": {
      "text/plain": [
       "0.0       5587\n",
       "1.0        153\n",
       "2.0         80\n",
       "3.0         59\n",
       "4.0         45\n",
       "          ... \n",
       "3627.0       1\n",
       "2074.0       1\n",
       "871.0        1\n",
       "742.0        1\n",
       "1872.0       1\n",
       "Name: ShoppingMall, Length: 1115, dtype: int64"
      ]
     },
     "metadata": {},
     "output_type": "display_data"
    },
    {
     "name": "stdout",
     "output_type": "stream",
     "text": [
      "\n"
     ]
    },
    {
     "data": {
      "text/plain": [
       "0.0       5324\n",
       "1.0        146\n",
       "2.0        105\n",
       "5.0         53\n",
       "3.0         53\n",
       "          ... \n",
       "273.0        1\n",
       "2581.0       1\n",
       "2948.0       1\n",
       "3778.0       1\n",
       "1643.0       1\n",
       "Name: Spa, Length: 1327, dtype: int64"
      ]
     },
     "metadata": {},
     "output_type": "display_data"
    },
    {
     "data": {
      "text/plain": [
       "0.0       5324\n",
       "1.0        146\n",
       "2.0        105\n",
       "5.0         53\n",
       "3.0         53\n",
       "          ... \n",
       "273.0        1\n",
       "2581.0       1\n",
       "2948.0       1\n",
       "3778.0       1\n",
       "1643.0       1\n",
       "Name: Spa, Length: 1327, dtype: int64"
      ]
     },
     "metadata": {},
     "output_type": "display_data"
    },
    {
     "name": "stdout",
     "output_type": "stream",
     "text": [
      "\n"
     ]
    },
    {
     "data": {
      "text/plain": [
       "0.0       5495\n",
       "1.0        139\n",
       "2.0         70\n",
       "3.0         56\n",
       "5.0         51\n",
       "          ... \n",
       "408.0        1\n",
       "876.0        1\n",
       "2891.0       1\n",
       "2102.0       1\n",
       "3235.0       1\n",
       "Name: VRDeck, Length: 1306, dtype: int64"
      ]
     },
     "metadata": {},
     "output_type": "display_data"
    },
    {
     "data": {
      "text/plain": [
       "0.0       5495\n",
       "1.0        139\n",
       "2.0         70\n",
       "3.0         56\n",
       "5.0         51\n",
       "          ... \n",
       "408.0        1\n",
       "876.0        1\n",
       "2891.0       1\n",
       "2102.0       1\n",
       "3235.0       1\n",
       "Name: VRDeck, Length: 1306, dtype: int64"
      ]
     },
     "metadata": {},
     "output_type": "display_data"
    },
    {
     "name": "stdout",
     "output_type": "stream",
     "text": [
      "\n"
     ]
    },
    {
     "data": {
      "text/plain": [
       "Gollux Reedall        2\n",
       "Elaney Webstephrey    2\n",
       "Grake Porki           2\n",
       "Sus Coolez            2\n",
       "Apix Wala             2\n",
       "                     ..\n",
       "Jamela Griffy         1\n",
       "Hardy Griffy          1\n",
       "Salley Mckinn         1\n",
       "Mall Frasp            1\n",
       "Propsh Hontichre      1\n",
       "Name: Name, Length: 8473, dtype: int64"
      ]
     },
     "metadata": {},
     "output_type": "display_data"
    },
    {
     "data": {
      "text/plain": [
       "Gollux Reedall        2\n",
       "Elaney Webstephrey    2\n",
       "Grake Porki           2\n",
       "Sus Coolez            2\n",
       "Apix Wala             2\n",
       "                     ..\n",
       "Jamela Griffy         1\n",
       "Hardy Griffy          1\n",
       "Salley Mckinn         1\n",
       "Mall Frasp            1\n",
       "Propsh Hontichre      1\n",
       "Name: Name, Length: 8473, dtype: int64"
      ]
     },
     "metadata": {},
     "output_type": "display_data"
    },
    {
     "name": "stdout",
     "output_type": "stream",
     "text": [
      "\n"
     ]
    },
    {
     "data": {
      "text/plain": [
       "True     4378\n",
       "False    4315\n",
       "Name: Transported, dtype: int64"
      ]
     },
     "metadata": {},
     "output_type": "display_data"
    },
    {
     "data": {
      "text/plain": [
       "True     4378\n",
       "False    4315\n",
       "Name: Transported, dtype: int64"
      ]
     },
     "metadata": {},
     "output_type": "display_data"
    },
    {
     "name": "stdout",
     "output_type": "stream",
     "text": [
      "\n"
     ]
    }
   ],
   "source": [
    "for column in df_train.columns:\n",
    "    display(df_train[column].value_counts())\n",
    "    display(df_train[column].value_counts())\n",
    "    print()"
   ]
  },
  {
   "cell_type": "markdown",
   "id": "998a4e48",
   "metadata": {},
   "source": [
    "### as we see result above , some of the columns distributed badly, therefore if we take a look at these columns carefully, most of them are numeric and the most used variable is 0 ,  so we can fill these nulls with 0."
   ]
  },
  {
   "cell_type": "code",
   "execution_count": 67,
   "id": "56c74d5a",
   "metadata": {},
   "outputs": [],
   "source": [
    "# for this column most used variable is \"False\"\n",
    "df_train['VIP']=df_train['VIP'].fillna(False)\n",
    "df_test['VIP']=df_test['VIP'].fillna(False)"
   ]
  },
  {
   "cell_type": "code",
   "execution_count": 68,
   "id": "97929e91",
   "metadata": {},
   "outputs": [],
   "source": [
    "df_train['RoomService']=df_train['RoomService'].fillna(0.0)\n",
    "df_test['RoomService']=df_test['RoomService'].fillna(0.0)"
   ]
  },
  {
   "cell_type": "code",
   "execution_count": 69,
   "id": "d4ebc2be",
   "metadata": {},
   "outputs": [],
   "source": [
    "df_train['FoodCourt']=df_train['FoodCourt'].fillna(0.0)\n",
    "df_test['FoodCourt']=df_test['FoodCourt'].fillna(0.0)"
   ]
  },
  {
   "cell_type": "code",
   "execution_count": 70,
   "id": "b96e9473",
   "metadata": {},
   "outputs": [],
   "source": [
    "df_train['ShoppingMall']=df_train['ShoppingMall'].fillna(0.0)\n",
    "df_test['ShoppingMall']=df_test['ShoppingMall'].fillna(0.0)"
   ]
  },
  {
   "cell_type": "code",
   "execution_count": 71,
   "id": "01dfde80",
   "metadata": {},
   "outputs": [],
   "source": [
    "df_train['Spa']=df_train['Spa'].fillna(0.0)\n",
    "df_test['Spa']=df_test['Spa'].fillna(0.0)"
   ]
  },
  {
   "cell_type": "code",
   "execution_count": 72,
   "id": "c5761939",
   "metadata": {},
   "outputs": [],
   "source": [
    "df_train['VRDeck']=df_train['VRDeck'].fillna(0.0)\n",
    "df_test['VRDeck']=df_test['VRDeck'].fillna(0.0)"
   ]
  },
  {
   "cell_type": "markdown",
   "id": "f40fd8f1",
   "metadata": {},
   "source": [
    "### Rate of remainging data after all nulls are dropped "
   ]
  },
  {
   "cell_type": "code",
   "execution_count": 73,
   "id": "5d07ce6f",
   "metadata": {},
   "outputs": [
    {
     "data": {
      "text/plain": [
       "0.8715058092718279"
      ]
     },
     "execution_count": 73,
     "metadata": {},
     "output_type": "execute_result"
    }
   ],
   "source": [
    "len(df_train.dropna())/len(df_train)"
   ]
  },
  {
   "cell_type": "code",
   "execution_count": 74,
   "id": "47af2bcc",
   "metadata": {},
   "outputs": [
    {
     "data": {
      "text/plain": [
       "0.8765489829319617"
      ]
     },
     "execution_count": 74,
     "metadata": {},
     "output_type": "execute_result"
    }
   ],
   "source": [
    "len(df_test.dropna())/len(df_test)"
   ]
  },
  {
   "cell_type": "code",
   "execution_count": 75,
   "id": "57dae836",
   "metadata": {},
   "outputs": [
    {
     "data": {
      "text/plain": [
       "PassengerId       0\n",
       "HomePlanet      201\n",
       "CryoSleep       217\n",
       "Cabin           199\n",
       "Destination     182\n",
       "Age             179\n",
       "VIP               0\n",
       "RoomService       0\n",
       "FoodCourt         0\n",
       "ShoppingMall      0\n",
       "Spa               0\n",
       "VRDeck            0\n",
       "Name            200\n",
       "Transported       0\n",
       "dtype: int64"
      ]
     },
     "execution_count": 75,
     "metadata": {},
     "output_type": "execute_result"
    }
   ],
   "source": [
    "df_train.isnull().sum()"
   ]
  },
  {
   "cell_type": "code",
   "execution_count": null,
   "id": "c218804f",
   "metadata": {},
   "outputs": [],
   "source": []
  },
  {
   "cell_type": "code",
   "execution_count": 82,
   "id": "fe9378dd",
   "metadata": {},
   "outputs": [],
   "source": [
    "df_train['HomePlanet']=df_train['HomePlanet'].fillna('Earth')\n",
    "df_train['CryoSleep']=df_train['CryoSleep'].fillna(False)\n",
    "df_train['Destination']=df_train['Destination'].fillna('TRAPPIST-1e')\n",
    "df_train['Age']=df_train['Age'].fillna(24.0)"
   ]
  },
  {
   "cell_type": "code",
   "execution_count": 83,
   "id": "ad3864e3",
   "metadata": {},
   "outputs": [
    {
     "data": {
      "text/plain": [
       "1.0"
      ]
     },
     "execution_count": 83,
     "metadata": {},
     "output_type": "execute_result"
    }
   ],
   "source": [
    "# drop all remaing nulls from train \n",
    "df_train=df_train.dropna()"
   ]
  },
  {
   "cell_type": "code",
   "execution_count": 84,
   "id": "e1c0a0aa",
   "metadata": {},
   "outputs": [],
   "source": [
    "df_test['HomePlanet']=df_test['HomePlanet'].fillna('Earth')\n",
    "df_test['CryoSleep']=df_test['CryoSleep'].fillna(False)\n",
    "df_test['Cabin']=df_test['Cabin'].fillna('G/160/P')\n",
    "df_test['Destination']=df_test['Destination'].fillna('TRAPPIST-1e')\n",
    "df_test['Age']=df_test['Age'].fillna(25.8)   # mean 28.5 # top20 mean 25.8"
   ]
  },
  {
   "cell_type": "code",
   "execution_count": 85,
   "id": "a7c689c9",
   "metadata": {},
   "outputs": [],
   "source": [
    "#df_test.RoomService.value_counts()"
   ]
  },
  {
   "cell_type": "code",
   "execution_count": 86,
   "id": "c10e43b8",
   "metadata": {},
   "outputs": [],
   "source": [
    "#df_train.Age.value_counts().to_frame().head(20)"
   ]
  },
  {
   "cell_type": "code",
   "execution_count": 87,
   "id": "a56251e2",
   "metadata": {},
   "outputs": [
    {
     "name": "stderr",
     "output_type": "stream",
     "text": [
      "/var/folders/x2/dxy3xlpn5jvcpyfkpvx2zm2r0000gn/T/ipykernel_1959/2886987449.py:1: SettingWithCopyWarning: \n",
      "A value is trying to be set on a copy of a slice from a DataFrame.\n",
      "Try using .loc[row_indexer,col_indexer] = value instead\n",
      "\n",
      "See the caveats in the documentation: https://pandas.pydata.org/pandas-docs/stable/user_guide/indexing.html#returning-a-view-versus-a-copy\n",
      "  df_train['Cabin_1']=0\n",
      "/var/folders/x2/dxy3xlpn5jvcpyfkpvx2zm2r0000gn/T/ipykernel_1959/2886987449.py:2: SettingWithCopyWarning: \n",
      "A value is trying to be set on a copy of a slice from a DataFrame.\n",
      "Try using .loc[row_indexer,col_indexer] = value instead\n",
      "\n",
      "See the caveats in the documentation: https://pandas.pydata.org/pandas-docs/stable/user_guide/indexing.html#returning-a-view-versus-a-copy\n",
      "  df_train['Cabin_2']=0\n",
      "/var/folders/x2/dxy3xlpn5jvcpyfkpvx2zm2r0000gn/T/ipykernel_1959/2886987449.py:3: SettingWithCopyWarning: \n",
      "A value is trying to be set on a copy of a slice from a DataFrame.\n",
      "Try using .loc[row_indexer,col_indexer] = value instead\n",
      "\n",
      "See the caveats in the documentation: https://pandas.pydata.org/pandas-docs/stable/user_guide/indexing.html#returning-a-view-versus-a-copy\n",
      "  df_train['Cabin_3']=0\n"
     ]
    }
   ],
   "source": [
    "df_train['Cabin_1']=0\n",
    "df_train['Cabin_2']=0\n",
    "df_train['Cabin_3']=0\n",
    "for index,row in df_train.iterrows():\n",
    "    tmp_cabin_list=row['Cabin'].split('/')\n",
    "    df_train.at[index,'Cabin_1']=tmp_cabin_list[0]\n",
    "    df_train.at[index,'Cabin_2']=tmp_cabin_list[1]\n",
    "    df_train.at[index,'Cabin_3']=tmp_cabin_list[2]"
   ]
  },
  {
   "cell_type": "code",
   "execution_count": 88,
   "id": "d40012c5",
   "metadata": {},
   "outputs": [],
   "source": [
    "df_test['Cabin_1']=0\n",
    "df_test['Cabin_2']=0\n",
    "df_test['Cabin_3']=0\n",
    "for index,row in df_test.iterrows():\n",
    "    tmp_cabin_list=row['Cabin'].split('/')\n",
    "    df_test.at[index,'Cabin_1']=tmp_cabin_list[0]\n",
    "    df_test.at[index,'Cabin_2']=tmp_cabin_list[1]\n",
    "    df_test.at[index,'Cabin_3']=tmp_cabin_list[2]"
   ]
  },
  {
   "cell_type": "code",
   "execution_count": 89,
   "id": "8a87ae69",
   "metadata": {},
   "outputs": [
    {
     "name": "stderr",
     "output_type": "stream",
     "text": [
      "/var/folders/x2/dxy3xlpn5jvcpyfkpvx2zm2r0000gn/T/ipykernel_1959/2654294975.py:1: SettingWithCopyWarning: \n",
      "A value is trying to be set on a copy of a slice from a DataFrame\n",
      "\n",
      "See the caveats in the documentation: https://pandas.pydata.org/pandas-docs/stable/user_guide/indexing.html#returning-a-view-versus-a-copy\n",
      "  df_train.drop(columns=['Cabin'],inplace=True)\n"
     ]
    }
   ],
   "source": [
    "df_train.drop(columns=['Cabin'],inplace=True)\n",
    "df_test.drop(columns=['Cabin'],inplace=True)"
   ]
  },
  {
   "cell_type": "code",
   "execution_count": 90,
   "id": "77868dba",
   "metadata": {},
   "outputs": [
    {
     "name": "stderr",
     "output_type": "stream",
     "text": [
      "/var/folders/x2/dxy3xlpn5jvcpyfkpvx2zm2r0000gn/T/ipykernel_1959/341266545.py:1: SettingWithCopyWarning: \n",
      "A value is trying to be set on a copy of a slice from a DataFrame.\n",
      "Try using .loc[row_indexer,col_indexer] = value instead\n",
      "\n",
      "See the caveats in the documentation: https://pandas.pydata.org/pandas-docs/stable/user_guide/indexing.html#returning-a-view-versus-a-copy\n",
      "  df_train['Cabin_2']=df_train.Cabin_2.apply(pd.to_numeric)\n"
     ]
    }
   ],
   "source": [
    "df_train['Cabin_2']=df_train.Cabin_2.apply(pd.to_numeric)\n",
    "df_test['Cabin_2']=df_test.Cabin_2.apply(pd.to_numeric)"
   ]
  },
  {
   "cell_type": "markdown",
   "id": "8156bd8f",
   "metadata": {},
   "source": [
    "# Work with Name columns"
   ]
  },
  {
   "cell_type": "code",
   "execution_count": 91,
   "id": "f940618a",
   "metadata": {},
   "outputs": [],
   "source": [
    "all_name=list(set(df_train.Name).union(set(df_test.Name)))"
   ]
  },
  {
   "cell_type": "code",
   "execution_count": 92,
   "id": "f0f4075f",
   "metadata": {},
   "outputs": [],
   "source": [
    "names_with_id=dict()\n",
    "for i in range(len(all_name)):\n",
    "    names_with_id[all_name[i]]=i"
   ]
  },
  {
   "cell_type": "code",
   "execution_count": 93,
   "id": "c538c81a",
   "metadata": {},
   "outputs": [
    {
     "name": "stderr",
     "output_type": "stream",
     "text": [
      "/var/folders/x2/dxy3xlpn5jvcpyfkpvx2zm2r0000gn/T/ipykernel_1959/3089315358.py:1: SettingWithCopyWarning: \n",
      "A value is trying to be set on a copy of a slice from a DataFrame.\n",
      "Try using .loc[row_indexer,col_indexer] = value instead\n",
      "\n",
      "See the caveats in the documentation: https://pandas.pydata.org/pandas-docs/stable/user_guide/indexing.html#returning-a-view-versus-a-copy\n",
      "  df_train['Name_encoded']=0\n"
     ]
    }
   ],
   "source": [
    "df_train['Name_encoded']=0\n",
    "for index,row in df_train.iterrows():\n",
    "    df_train.at[index,'Name_encoded']=names_with_id[row['Name']]"
   ]
  },
  {
   "cell_type": "code",
   "execution_count": 94,
   "id": "784a0c48",
   "metadata": {},
   "outputs": [],
   "source": [
    "df_test['Name_encoded']=0\n",
    "for index,row in df_test.iterrows():\n",
    "    df_test.at[index,'Name_encoded']=names_with_id[row['Name']]"
   ]
  },
  {
   "cell_type": "code",
   "execution_count": 95,
   "id": "68514dd1",
   "metadata": {},
   "outputs": [
    {
     "name": "stderr",
     "output_type": "stream",
     "text": [
      "/var/folders/x2/dxy3xlpn5jvcpyfkpvx2zm2r0000gn/T/ipykernel_1959/1324597439.py:1: SettingWithCopyWarning: \n",
      "A value is trying to be set on a copy of a slice from a DataFrame\n",
      "\n",
      "See the caveats in the documentation: https://pandas.pydata.org/pandas-docs/stable/user_guide/indexing.html#returning-a-view-versus-a-copy\n",
      "  df_train.drop(columns=['Name'],inplace=True)\n"
     ]
    }
   ],
   "source": [
    "df_train.drop(columns=['Name'],inplace=True)\n",
    "df_test.drop(columns=['Name'],inplace=True)"
   ]
  },
  {
   "cell_type": "code",
   "execution_count": 96,
   "id": "73e3d4a4",
   "metadata": {},
   "outputs": [],
   "source": [
    "#df_train.drop(columns=['Name_encoded'],inplace=True)\n",
    "#df_test.drop(columns=['Name_encoded'],inplace=True)"
   ]
  },
  {
   "cell_type": "code",
   "execution_count": 97,
   "id": "ddd6a7a0",
   "metadata": {},
   "outputs": [],
   "source": [
    "# Multiple categorical columns\n",
    "categorical_cols = ['HomePlanet', 'CryoSleep', 'Destination', 'VIP','Cabin_1','Cabin_3']\n",
    "\n",
    "df_train=pd.get_dummies(df_train, columns=categorical_cols).copy()\n",
    "df_test=pd.get_dummies(df_test, columns=categorical_cols).copy()"
   ]
  },
  {
   "cell_type": "code",
   "execution_count": 98,
   "id": "68b62647",
   "metadata": {},
   "outputs": [],
   "source": [
    "from sklearn.model_selection import train_test_split\n",
    "from sklearn.naive_bayes import GaussianNB\n",
    "from sklearn import metrics\n",
    "from sklearn.model_selection import GridSearchCV"
   ]
  },
  {
   "cell_type": "code",
   "execution_count": null,
   "id": "92a7ed84",
   "metadata": {},
   "outputs": [],
   "source": []
  },
  {
   "cell_type": "markdown",
   "id": "4f94895c",
   "metadata": {},
   "source": [
    "### For local test train the train data "
   ]
  },
  {
   "cell_type": "code",
   "execution_count": 99,
   "id": "8f788856",
   "metadata": {},
   "outputs": [],
   "source": [
    "# splitting X and y into training and testing sets\n",
    "X_train, X_test, y_train, y_test = train_test_split(df_train.drop(columns=['PassengerId','Transported']),\n",
    "                                                    df_train['Transported'], test_size=0.3, random_state=42)\n"
   ]
  },
  {
   "cell_type": "code",
   "execution_count": 100,
   "id": "29f55b9e",
   "metadata": {},
   "outputs": [
    {
     "name": "stdout",
     "output_type": "stream",
     "text": [
      "Gaussian Naive Bayes model accuracy(in %): 75.29128163921254\n"
     ]
    }
   ],
   "source": [
    "# training the model on training set\n",
    "gnb = GaussianNB()\n",
    "gnb.fit(X_train, y_train)\n",
    "\n",
    "# making predictions on the testing set\n",
    "y_pred = gnb.predict(X_test)\n",
    "  \n",
    "# comparing actual response values (y_test) with predicted response values (y_pred)\n",
    "print(\"Gaussian Naive Bayes model accuracy(in %):\", metrics.accuracy_score(y_test, y_pred)*100)"
   ]
  },
  {
   "cell_type": "markdown",
   "id": "b775fa6e",
   "metadata": {},
   "source": [
    "# XgBoost Algorithm and HyperTuning"
   ]
  },
  {
   "cell_type": "markdown",
   "id": "aae6eb64",
   "metadata": {},
   "source": [
    "### hyperparameter tuning"
   ]
  },
  {
   "cell_type": "code",
   "execution_count": 101,
   "id": "3e2c4e26",
   "metadata": {},
   "outputs": [],
   "source": [
    "# import packages for hyperparameters tuning\n",
    "from hyperopt import STATUS_OK, Trials, fmin, hp, tpe"
   ]
  },
  {
   "cell_type": "code",
   "execution_count": 102,
   "id": "80939a3f",
   "metadata": {},
   "outputs": [],
   "source": [
    "space={'max_depth': hp.quniform(\"max_depth\", 3, 10, 1),\n",
    "        'gamma': hp.uniform ('gamma', 1,20),\n",
    "        'learning_rate': hp.quniform('learning_rate', 0,2,0.01),\n",
    "        'max_delta_step':hp.uniform ('max_delta_step', 0,10),\n",
    "        'reg_alpha' : hp.quniform('reg_alpha', 0,180,1),\n",
    "        'reg_lambda' : hp.uniform('reg_lambda', 0,1),\n",
    "        'min_child_weight' : hp.uniform('min_child_weight', 0, 10),\n",
    "        'n_estimators': 100,\n",
    "        'seed': 10\n",
    "    }    "
   ]
  },
  {
   "cell_type": "code",
   "execution_count": 103,
   "id": "27d8f70b",
   "metadata": {},
   "outputs": [],
   "source": [
    "def objective(space):\n",
    "    clf=xgb.XGBClassifier(\n",
    "                    n_estimators =space['n_estimators'],\n",
    "                    max_depth = int(space['max_depth']), \n",
    "                    gamma = space['gamma'],\n",
    "                    reg_alpha = space['reg_alpha'],\n",
    "                    min_child_weight=int(space['min_child_weight']),\n",
    "                    max_delta_step=int(space['max_delta_step']),\n",
    "                    learning_rate=space['learning_rate'],\n",
    "                    seed=space['seed'],\n",
    "                    eval_metric='auc',\n",
    "                    early_stopping_rounds=15\n",
    "    )\n",
    "    \n",
    "    evaluation = [( X_train, y_train), ( X_test, y_test)]\n",
    "    \n",
    "    clf.fit(X_train, y_train,\n",
    "            eval_set=evaluation,\n",
    "            verbose=False)\n",
    "    \n",
    "\n",
    "    pred = clf.predict(X_test)\n",
    "    accuracy = accuracy_score(y_test, pred>0.5)\n",
    "    print (\"SCORE:\", accuracy)\n",
    "    return {'loss': -accuracy, 'status': STATUS_OK }"
   ]
  },
  {
   "cell_type": "code",
   "execution_count": 104,
   "id": "c9089229",
   "metadata": {
    "scrolled": true
   },
   "outputs": [
    {
     "name": "stdout",
     "output_type": "stream",
     "text": [
      "SCORE:                                                                          \n",
      "0.7697870630775412                                                              \n",
      "SCORE:                                                                          \n",
      "0.7766171153073523                                                              \n",
      "SCORE:                                                                          \n",
      "0.7850542386500603                                                              \n",
      "SCORE:                                                                          \n",
      "0.7657693852952994                                                              \n",
      "SCORE:                                                                          \n",
      "0.7621534752912816                                                              \n",
      "SCORE:                                                                          \n",
      "0.773804740859783                                                               \n",
      "SCORE:                                                                          \n",
      "0.7480916030534351                                                              \n",
      "SCORE:                                                                          \n",
      "0.758537565287264                                                               \n",
      "SCORE:                                                                          \n",
      "0.8035355564483728                                                              \n",
      "SCORE:                                                                          \n",
      "0.782241864202491                                                               \n",
      "SCORE:                                                                          \n",
      "0.7713941341904379                                                              \n",
      "SCORE:                                                                          \n",
      "0.76295701084773                                                                \n",
      "SCORE:                                                                          \n",
      "0.7774206508638007                                                              \n",
      "SCORE:                                                                          \n",
      "0.7657693852952994                                                              \n",
      "SCORE:                                                                          \n",
      "0.7874648453194054                                                              \n",
      "SCORE:                                                                          \n",
      "0.7496986741663318                                                              \n",
      "SCORE:                                                                          \n",
      "0.7605464041783849                                                              \n",
      "SCORE:                                                                          \n",
      "0.7569304941743672                                                              \n",
      "SCORE:                                                                          \n",
      "0.7701888308557654                                                              \n",
      "SCORE:                                                                          \n",
      "0.7496986741663318                                                              \n",
      "SCORE:                                                                          \n",
      "0.7971072719967859                                                              \n",
      "SCORE:                                                                          \n",
      "0.7991161108879068                                                              \n",
      "SCORE:                                                                          \n",
      "0.803937324226597                                                               \n",
      "SCORE:                                                                          \n",
      "0.793089594214544                                                               \n",
      "SCORE:                                                                          \n",
      "0.7983125753314584                                                              \n",
      "SCORE:                                                                          \n",
      "0.8003214142225793                                                              \n",
      "SCORE:                                                                          \n",
      "0.7898754519887505                                                              \n",
      "SCORE:                                                                          \n",
      "0.8095620731217357                                                              \n",
      "SCORE:                                                                          \n",
      "0.7858577742065086                                                              \n",
      "SCORE:                                                                          \n",
      "0.7882683808758537                                                              \n",
      "SCORE:                                                                          \n",
      "0.7906789875451988                                                              \n",
      "SCORE:                                                                          \n",
      "0.7830453997589394                                                              \n",
      "SCORE:                                                                          \n",
      "0.7730012053033347                                                              \n",
      "SCORE:                                                                          \n",
      "0.7830453997589394                                                              \n",
      "SCORE:                                                                          \n",
      "0.7721976697468863                                                              \n",
      "SCORE:                                                                          \n",
      "0.7794294897549217                                                              \n",
      "SCORE:                                                                          \n",
      "0.8007231820008035                                                              \n",
      "SCORE:                                                                          \n",
      "0.7802330253113701                                                              \n",
      "SCORE:                                                                          \n",
      "0.4961832061068702                                                              \n",
      "SCORE:                                                                          \n",
      "0.7898754519887505                                                              \n",
      "SCORE:                                                                          \n",
      "0.7971072719967859                                                              \n",
      "SCORE:                                                                          \n",
      "0.7770188830855765                                                              \n",
      "SCORE:                                                                          \n",
      "0.7963037364403375                                                              \n",
      "SCORE:                                                                          \n",
      "0.7786259541984732                                                              \n",
      "SCORE:                                                                          \n",
      "0.7838489353153877                                                              \n",
      "SCORE:                                                                          \n",
      "0.7814383286460426                                                              \n",
      "SCORE:                                                                          \n",
      "0.7593411008437123                                                              \n",
      "SCORE:                                                                          \n",
      "0.7890719164323021                                                              \n",
      "SCORE:                                                                          \n",
      "0.769385295299317                                                               \n",
      "SCORE:                                                                          \n",
      "0.786661309762957                                                               \n",
      "SCORE:                                                                          \n"
     ]
    },
    {
     "name": "stdout",
     "output_type": "stream",
     "text": [
      "0.791080755323423                                                               \n",
      "SCORE:                                                                          \n",
      "0.7577340297308156                                                              \n",
      "SCORE:                                                                          \n",
      "0.7914825231016472                                                              \n",
      "SCORE:                                                                          \n",
      "0.7794294897549217                                                              \n",
      "SCORE:                                                                          \n",
      "0.7661711530735235                                                              \n",
      "SCORE:                                                                          \n",
      "0.7938931297709924                                                              \n",
      "SCORE:                                                                          \n",
      "0.791080755323423                                                               \n",
      "SCORE:                                                                          \n",
      "0.7874648453194054                                                              \n",
      "SCORE:                                                                          \n",
      "0.7854560064282845                                                              \n",
      "SCORE:                                                                          \n",
      "0.7971072719967859                                                              \n",
      "SCORE:                                                                          \n",
      "0.795098433105665                                                               \n",
      "SCORE:                                                                          \n",
      "0.7963037364403375                                                              \n",
      "SCORE:                                                                          \n",
      "0.7717959019686621                                                              \n",
      "SCORE:                                                                          \n",
      "0.7709923664122137                                                              \n",
      "SCORE:                                                                          \n",
      "0.7926878264363199                                                              \n",
      "SCORE:                                                                          \n",
      "0.7963037364403375                                                              \n",
      "SCORE:                                                                          \n",
      "0.7979108075532342                                                              \n",
      "SCORE:                                                                          \n",
      "0.7946966653274408                                                              \n",
      "SCORE:                                                                          \n",
      "0.8051426275612696                                                              \n",
      "SCORE:                                                                          \n",
      "0.7906789875451988                                                              \n",
      "SCORE:                                                                          \n",
      "0.777822418642025                                                               \n",
      "SCORE:                                                                          \n",
      "0.795098433105665                                                               \n",
      "SCORE:                                                                          \n",
      "0.8019284853354761                                                              \n",
      "SCORE:                                                                          \n",
      "0.799517878666131                                                               \n",
      "SCORE:                                                                          \n",
      "0.7786259541984732                                                              \n",
      "SCORE:                                                                          \n",
      "0.7922860586580956                                                              \n",
      "SCORE:                                                                          \n",
      "0.7955002008838891                                                              \n",
      "SCORE:                                                                          \n",
      "0.8015267175572519                                                              \n",
      "SCORE:                                                                          \n",
      "0.793089594214544                                                               \n",
      "SCORE:                                                                          \n",
      "0.7926878264363199                                                              \n",
      "SCORE:                                                                          \n",
      "0.7934913619927682                                                              \n",
      "SCORE:                                                                          \n",
      "0.7979108075532342                                                              \n",
      "SCORE:                                                                          \n",
      "0.7886701486540779                                                              \n",
      "SCORE:                                                                          \n",
      "0.7890719164323021                                                              \n",
      "SCORE:                                                                          \n",
      "0.7697870630775412                                                              \n",
      "SCORE:                                                                          \n",
      "0.7517075130574528                                                              \n",
      "SCORE:                                                                          \n",
      "0.769385295299317                                                               \n",
      "SCORE:                                                                          \n",
      "0.7557251908396947                                                              \n",
      "SCORE:                                                                          \n",
      "0.7641623141824025                                                              \n",
      "SCORE:                                                                          \n",
      "0.7902772197669747                                                              \n",
      "SCORE:                                                                          \n",
      "0.7926878264363199                                                              \n",
      "SCORE:                                                                          \n",
      "0.7902772197669747                                                              \n",
      "SCORE:                                                                          \n",
      "0.7557251908396947                                                              \n",
      "SCORE:                                                                          \n",
      "0.7818400964242668                                                              \n",
      "SCORE:                                                                          \n",
      "0.786661309762957                                                               \n",
      "SCORE:                                                                          \n",
      "0.7846524708718361                                                              \n",
      "SCORE:                                                                          \n",
      "0.7926878264363199                                                              \n",
      "SCORE:                                                                          \n",
      "0.7967055042185617                                                              \n",
      "SCORE:                                                                          \n",
      "0.4961832061068702                                                              \n",
      "SCORE:                                                                          \n",
      "0.793089594214544                                                               \n",
      "SCORE:                                                                          \n",
      "0.7967055042185617                                                              \n"
     ]
    },
    {
     "name": "stdout",
     "output_type": "stream",
     "text": [
      "SCORE:                                                                          \n",
      "0.7874648453194054                                                              \n",
      "SCORE:                                                                          \n",
      "0.782241864202491                                                               \n",
      "SCORE:                                                                          \n",
      "0.7878666130976296                                                              \n",
      "SCORE:                                                                          \n",
      "0.7959019686621133                                                              \n",
      "SCORE:                                                                          \n",
      "0.7826436319807152                                                              \n",
      "SCORE:                                                                          \n",
      "0.8011249497790277                                                              \n",
      "SCORE:                                                                          \n",
      "0.8015267175572519                                                              \n",
      "SCORE:                                                                          \n",
      "0.7926878264363199                                                              \n",
      "SCORE:                                                                          \n",
      "0.7971072719967859                                                              \n",
      "SCORE:                                                                          \n",
      "0.7942948975492166                                                              \n",
      "SCORE:                                                                          \n",
      "0.7870630775411812                                                              \n",
      "SCORE:                                                                          \n",
      "0.7971072719967859                                                              \n",
      "SCORE:                                                                          \n",
      "0.7730012053033347                                                              \n",
      "SCORE:                                                                          \n",
      "0.7898754519887505                                                              \n",
      "SCORE:                                                                          \n",
      "0.7770188830855765                                                              \n",
      "SCORE:                                                                          \n",
      "0.7681799919646445                                                              \n",
      "SCORE:                                                                          \n",
      "0.7991161108879068                                                              \n",
      "SCORE:                                                                          \n",
      "0.7810365608678184                                                              \n",
      "SCORE:                                                                          \n",
      "0.7890719164323021                                                              \n",
      "SCORE:                                                                          \n",
      "0.7967055042185617                                                              \n",
      "SCORE:                                                                          \n",
      "0.791080755323423                                                               \n",
      "SCORE:                                                                          \n",
      "0.8027320208919244                                                              \n",
      "SCORE:                                                                          \n",
      "0.799517878666131                                                               \n",
      "SCORE:                                                                          \n",
      "0.7721976697468863                                                              \n",
      "SCORE:                                                                          \n",
      "0.7709923664122137                                                              \n",
      "SCORE:                                                                          \n",
      "0.8007231820008035                                                              \n",
      "SCORE:                                                                          \n",
      "0.7697870630775412                                                              \n",
      "SCORE:                                                                          \n",
      "0.7673764564081961                                                              \n",
      "SCORE:                                                                          \n",
      "0.7959019686621133                                                              \n",
      "SCORE:                                                                          \n",
      "0.7959019686621133                                                              \n",
      "SCORE:                                                                          \n",
      "0.7987143431096826                                                              \n",
      "SCORE:                                                                          \n",
      "0.7794294897549217                                                              \n",
      "SCORE:                                                                          \n",
      "0.7914825231016472                                                              \n",
      "SCORE:                                                                          \n",
      "0.786661309762957                                                               \n",
      "SCORE:                                                                          \n",
      "0.7983125753314584                                                              \n",
      "SCORE:                                                                          \n",
      "0.7770188830855765                                                              \n",
      "SCORE:                                                                          \n",
      "0.7750100441944556                                                              \n",
      "SCORE:                                                                          \n",
      "0.7918842908798714                                                              \n",
      "SCORE:                                                                          \n",
      "0.7882683808758537                                                              \n",
      "SCORE:                                                                          \n",
      "0.7914825231016472                                                              \n",
      "SCORE:                                                                          \n",
      "0.7589393330654881                                                              \n",
      "SCORE:                                                                          \n",
      "0.7505022097227803                                                              \n",
      "SCORE:                                                                          \n",
      "0.7834471675371635                                                              \n",
      "SCORE:                                                                          \n",
      "0.769385295299317                                                               \n",
      "SCORE:                                                                          \n",
      "0.8031337886701486                                                              \n",
      "SCORE:                                                                          \n",
      "0.4961832061068702                                                              \n",
      "SCORE:                                                                          \n",
      "0.7979108075532342                                                              \n",
      "SCORE:                                                                          \n",
      "0.8007231820008035                                                              \n",
      "SCORE:                                                                          \n",
      "0.7999196464443552                                                              \n",
      "SCORE:                                                                          \n",
      "0.8115709120128566                                                              \n",
      "SCORE:                                                                          \n"
     ]
    },
    {
     "name": "stdout",
     "output_type": "stream",
     "text": [
      "0.8055443953394937                                                              \n",
      "SCORE:                                                                          \n",
      "0.8035355564483728                                                              \n",
      "SCORE:                                                                          \n",
      "0.8023302531137003                                                              \n",
      "SCORE:                                                                          \n",
      "0.8083567697870631                                                              \n",
      "SCORE:                                                                          \n",
      "0.7938931297709924                                                              \n",
      "SCORE:                                                                          \n",
      "0.8071514664523906                                                              \n",
      "SCORE:                                                                          \n",
      "0.7979108075532342                                                              \n",
      "SCORE:                                                                          \n",
      "0.7918842908798714                                                              \n",
      "SCORE:                                                                          \n",
      "0.7934913619927682                                                              \n",
      "SCORE:                                                                          \n",
      "0.7979108075532342                                                              \n",
      "SCORE:                                                                          \n",
      "0.8051426275612696                                                              \n",
      "SCORE:                                                                          \n",
      "0.8023302531137003                                                              \n",
      "SCORE:                                                                          \n",
      "0.8015267175572519                                                              \n",
      "SCORE:                                                                          \n",
      "0.7898754519887505                                                              \n",
      "SCORE:                                                                          \n",
      "0.8047408597830454                                                              \n",
      "SCORE:                                                                          \n",
      "0.7918842908798714                                                              \n",
      "SCORE:                                                                          \n",
      "0.793089594214544                                                               \n",
      "SCORE:                                                                          \n",
      "0.791080755323423                                                               \n",
      "SCORE:                                                                          \n",
      "0.8035355564483728                                                              \n",
      "SCORE:                                                                          \n",
      "0.7858577742065086                                                              \n",
      "SCORE:                                                                          \n",
      "0.7894736842105263                                                              \n",
      "SCORE:                                                                          \n",
      "0.8091603053435115                                                              \n",
      "SCORE:                                                                          \n",
      "0.7922860586580956                                                              \n",
      "SCORE:                                                                          \n",
      "0.7601446364001607                                                              \n",
      "SCORE:                                                                          \n",
      "0.7938931297709924                                                              \n",
      "SCORE:                                                                          \n",
      "0.7955002008838891                                                              \n",
      "SCORE:                                                                          \n",
      "0.8031337886701486                                                              \n",
      "SCORE:                                                                          \n",
      "0.8011249497790277                                                              \n",
      "SCORE:                                                                          \n",
      "0.7922860586580956                                                              \n",
      "SCORE:                                                                          \n",
      "0.7918842908798714                                                              \n",
      "SCORE:                                                                          \n",
      "0.7926878264363199                                                              \n",
      "SCORE:                                                                          \n",
      "0.8067496986741663                                                              \n",
      "SCORE:                                                                          \n",
      "0.7730012053033347                                                              \n",
      "SCORE:                                                                          \n",
      "0.7890719164323021                                                              \n",
      "SCORE:                                                                          \n",
      "0.7794294897549217                                                              \n",
      "SCORE:                                                                          \n",
      "0.7842507030936119                                                              \n",
      "SCORE:                                                                          \n",
      "0.7826436319807152                                                              \n",
      "SCORE:                                                                          \n",
      "0.786661309762957                                                               \n",
      "SCORE:                                                                          \n",
      "0.773804740859783                                                               \n",
      "SCORE:                                                                          \n",
      "0.4961832061068702                                                              \n",
      "SCORE:                                                                          \n",
      "0.793089594214544                                                               \n",
      "SCORE:                                                                          \n",
      "0.764965849738851                                                               \n",
      "SCORE:                                                                          \n",
      "0.8107673764564082                                                              \n",
      "SCORE:                                                                          \n",
      "0.803937324226597                                                               \n",
      "SCORE:                                                                          \n",
      "0.7505022097227803                                                              \n",
      "SCORE:                                                                          \n",
      "0.7963037364403375                                                              \n",
      "SCORE:                                                                          \n",
      "0.7874648453194054                                                              \n",
      "SCORE:                                                                          \n",
      "0.7673764564081961                                                              \n",
      "SCORE:                                                                          \n",
      "0.7942948975492166                                                              \n",
      "SCORE:                                                                          \n",
      "0.8023302531137003                                                              \n",
      "SCORE:                                                                          \n",
      "0.7894736842105263                                                              \n"
     ]
    },
    {
     "name": "stdout",
     "output_type": "stream",
     "text": [
      "SCORE:                                                                          \n",
      "0.7946966653274408                                                              \n",
      "SCORE:                                                                          \n",
      "0.4961832061068702                                                              \n",
      "SCORE:                                                                          \n",
      "0.8011249497790277                                                              \n",
      "SCORE:                                                                          \n",
      "0.8043390920048212                                                              \n",
      "SCORE:                                                                          \n",
      "0.7979108075532342                                                              \n",
      "SCORE:                                                                          \n",
      "0.7955002008838891                                                              \n",
      "SCORE:                                                                          \n",
      "0.7806347930895943                                                              \n",
      "SCORE:                                                                          \n",
      "0.7922860586580956                                                              \n",
      "SCORE:                                                                          \n",
      "0.799517878666131                                                               \n",
      "SCORE:                                                                          \n",
      "0.7810365608678184                                                              \n",
      "SCORE:                                                                          \n",
      "0.8031337886701486                                                              \n",
      "SCORE:                                                                          \n",
      "0.8075532342306148                                                              \n",
      "SCORE:                                                                          \n",
      "0.7762153475291281                                                              \n",
      "SCORE:                                                                          \n",
      "0.7862595419847328                                                              \n",
      "SCORE:                                                                          \n",
      "0.7846524708718361                                                              \n",
      "SCORE:                                                                          \n",
      "0.7946966653274408                                                              \n",
      "SCORE:                                                                          \n",
      "0.7975090397750101                                                              \n",
      "SCORE:                                                                          \n",
      "0.7987143431096826                                                              \n",
      "SCORE:                                                                          \n",
      "0.7906789875451988                                                              \n",
      "SCORE:                                                                          \n",
      "0.8063479308959421                                                              \n",
      "SCORE:                                                                          \n",
      "0.7589393330654881                                                              \n",
      "SCORE:                                                                          \n",
      "0.799517878666131                                                               \n",
      "SCORE:                                                                          \n",
      "0.7886701486540779                                                              \n",
      "SCORE:                                                                          \n",
      "0.7862595419847328                                                              \n",
      "SCORE:                                                                          \n",
      "0.7987143431096826                                                              \n",
      "SCORE:                                                                          \n",
      "0.4961832061068702                                                              \n",
      "SCORE:                                                                          \n",
      "0.7754118119726798                                                              \n",
      "SCORE:                                                                          \n",
      "0.7609481719566091                                                              \n",
      "SCORE:                                                                          \n",
      "0.7934913619927682                                                              \n",
      "SCORE:                                                                          \n",
      "0.8015267175572519                                                              \n",
      "SCORE:                                                                          \n",
      "0.7870630775411812                                                              \n",
      "SCORE:                                                                          \n",
      "0.7874648453194054                                                              \n",
      "SCORE:                                                                          \n",
      "0.8107673764564082                                                              \n",
      "SCORE:                                                                          \n",
      "0.7971072719967859                                                              \n",
      "SCORE:                                                                          \n",
      "0.769385295299317                                                               \n",
      "SCORE:                                                                          \n",
      "0.7894736842105263                                                              \n",
      "SCORE:                                                                          \n",
      "0.7967055042185617                                                              \n",
      "SCORE:                                                                          \n",
      "0.7922860586580956                                                              \n",
      "SCORE:                                                                          \n",
      "0.7625552430695058                                                              \n",
      "SCORE:                                                                          \n",
      "0.7730012053033347                                                              \n",
      "SCORE:                                                                          \n",
      "0.7894736842105263                                                              \n",
      "SCORE:                                                                          \n",
      "0.7971072719967859                                                              \n",
      "SCORE:                                                                          \n",
      "0.8011249497790277                                                              \n",
      "SCORE:                                                                          \n",
      "0.7878666130976296                                                              \n",
      "SCORE:                                                                          \n",
      "0.7762153475291281                                                              \n",
      "SCORE:                                                                          \n",
      "0.8031337886701486                                                              \n",
      "SCORE:                                                                          \n",
      "0.7979108075532342                                                              \n",
      "SCORE:                                                                          \n",
      "0.7906789875451988                                                              \n",
      "SCORE:                                                                          \n",
      "0.8091603053435115                                                              \n",
      "SCORE:                                                                          \n",
      "0.7886701486540779                                                              \n",
      "SCORE:                                                                          \n"
     ]
    },
    {
     "name": "stdout",
     "output_type": "stream",
     "text": [
      "0.7858577742065086                                                              \n",
      "SCORE:                                                                          \n",
      "0.7946966653274408                                                              \n",
      "SCORE:                                                                          \n",
      "0.7959019686621133                                                              \n",
      "SCORE:                                                                          \n",
      "0.8003214142225793                                                              \n",
      "SCORE:                                                                          \n",
      "0.7505022097227803                                                              \n",
      "SCORE:                                                                          \n",
      "0.8031337886701486                                                              \n",
      "SCORE:                                                                          \n",
      "0.8051426275612696                                                              \n",
      "SCORE:                                                                          \n",
      "0.8027320208919244                                                              \n",
      "SCORE:                                                                          \n",
      "0.7983125753314584                                                              \n",
      "SCORE:                                                                          \n",
      "0.8087585375652873                                                              \n",
      "SCORE:                                                                          \n",
      "0.8079550020088389                                                              \n",
      "SCORE:                                                                          \n",
      "0.7975090397750101                                                              \n",
      "SCORE:                                                                          \n",
      "0.4961832061068702                                                              \n",
      "SCORE:                                                                          \n",
      "0.793089594214544                                                               \n",
      "SCORE:                                                                          \n",
      "0.7999196464443552                                                              \n",
      "SCORE:                                                                          \n",
      "0.8051426275612696                                                              \n",
      "SCORE:                                                                          \n",
      "0.7975090397750101                                                              \n",
      "SCORE:                                                                          \n",
      "0.8019284853354761                                                              \n",
      "SCORE:                                                                          \n",
      "0.8115709120128566                                                              \n",
      "SCORE:                                                                          \n",
      "0.7983125753314584                                                              \n",
      "SCORE:                                                                          \n",
      "0.8035355564483728                                                              \n",
      "SCORE:                                                                          \n",
      "0.8083567697870631                                                              \n",
      "SCORE:                                                                          \n",
      "0.8047408597830454                                                              \n",
      "SCORE:                                                                          \n",
      "0.8107673764564082                                                              \n",
      "SCORE:                                                                          \n",
      "0.7983125753314584                                                              \n",
      "SCORE:                                                                          \n",
      "0.7959019686621133                                                              \n",
      "SCORE:                                                                          \n",
      "0.7914825231016472                                                              \n",
      "SCORE:                                                                          \n",
      "0.7906789875451988                                                              \n",
      "SCORE:                                                                          \n",
      "0.8027320208919244                                                              \n",
      "SCORE:                                                                          \n",
      "0.8015267175572519                                                              \n",
      "SCORE:                                                                          \n",
      "0.7963037364403375                                                              \n",
      "SCORE:                                                                          \n",
      "0.7898754519887505                                                              \n",
      "SCORE:                                                                          \n",
      "0.8023302531137003                                                              \n",
      "SCORE:                                                                          \n",
      "0.8011249497790277                                                              \n",
      "SCORE:                                                                          \n",
      "0.8035355564483728                                                              \n",
      "SCORE:                                                                          \n",
      "0.7894736842105263                                                              \n",
      "SCORE:                                                                          \n",
      "0.7922860586580956                                                              \n",
      "SCORE:                                                                          \n",
      "0.7926878264363199                                                              \n",
      "SCORE:                                                                          \n",
      "0.791080755323423                                                               \n",
      "SCORE:                                                                          \n",
      "0.793089594214544                                                               \n",
      "SCORE:                                                                          \n",
      "0.8019284853354761                                                              \n",
      "SCORE:                                                                          \n",
      "0.8031337886701486                                                              \n",
      "SCORE:                                                                          \n",
      "0.764965849738851                                                               \n",
      "SCORE:                                                                          \n",
      "0.7975090397750101                                                              \n",
      "SCORE:                                                                          \n",
      "0.7938931297709924                                                              \n",
      "SCORE:                                                                          \n",
      "0.7898754519887505                                                              \n",
      "SCORE:                                                                          \n",
      "0.803937324226597                                                               \n",
      "SCORE:                                                                          \n",
      "0.8003214142225793                                                              \n",
      "100%|██████| 300/300 [00:44<00:00,  6.67trial/s, best loss: -0.8115709120128566]\n"
     ]
    }
   ],
   "source": [
    "trials = Trials()\n",
    "\n",
    "best_hyperparams = fmin(fn = objective,\n",
    "                        space = space,\n",
    "                        algo = tpe.suggest,\n",
    "                        max_evals = 300,\n",
    "                        trials = trials)"
   ]
  },
  {
   "cell_type": "code",
   "execution_count": 108,
   "id": "74435cd5",
   "metadata": {},
   "outputs": [
    {
     "name": "stdout",
     "output_type": "stream",
     "text": [
      "The best hyperparameters are :  \n",
      "\n",
      "{'gamma': 3.960627464795948, 'learning_rate': 0.16, 'max_delta_step': 4.639178550275831, 'max_depth': 8.0, 'min_child_weight': 1.1863205634697773, 'reg_alpha': 3.0, 'reg_lambda': 0.5048858425550264}\n"
     ]
    }
   ],
   "source": [
    "print(\"The best hyperparameters are : \",\"\\n\")\n",
    "print(best_hyperparams)"
   ]
  },
  {
   "cell_type": "code",
   "execution_count": 109,
   "id": "dca1b659",
   "metadata": {},
   "outputs": [
    {
     "name": "stdout",
     "output_type": "stream",
     "text": [
      "SCORE: 0.8079550020088389\n"
     ]
    }
   ],
   "source": [
    "clf=xgb.XGBClassifier(\n",
    "    max_depth = int(best_hyperparams['max_depth']),\n",
    "    gamma = best_hyperparams['gamma'],\n",
    "    reg_alpha = best_hyperparams['reg_alpha'],\n",
    "    min_child_weight=best_hyperparams['min_child_weight'],\n",
    "    learning_rate=best_hyperparams['learning_rate'],\n",
    "    max_delta_step=best_hyperparams['max_delta_step'],\n",
    "    \n",
    "    \n",
    ")\n",
    "evaluation = [( X_train, y_train), ( X_test, y_test)]\n",
    "    \n",
    "clf.fit(X_train, y_train,\n",
    "        eval_set=evaluation,\n",
    "        verbose=False)\n",
    "    \n",
    "\n",
    "y_pred = clf.predict(X_test)\n",
    "accuracy = accuracy_score(y_test, y_pred>0.5)\n",
    "print (\"SCORE:\", accuracy)"
   ]
  },
  {
   "cell_type": "code",
   "execution_count": 110,
   "id": "c2b26d79",
   "metadata": {},
   "outputs": [
    {
     "name": "stdout",
     "output_type": "stream",
     "text": [
      "[[ 981  254]\n",
      " [ 224 1030]] : is the confusion matrix\n",
      "0.8079550020088389 : is the accuracy score\n",
      "0.8021806853582555 : is the precision score\n",
      "0.8213716108452951 : is the recall score\n",
      "0.8116627265563435 : is the f1 score\n"
     ]
    }
   ],
   "source": [
    "print(confusion_matrix(y_test, y_pred), \": is the confusion matrix\")\n",
    "print(accuracy_score(y_test, y_pred), \": is the accuracy score\")\n",
    "print(precision_score(y_test, y_pred), \": is the precision score\")\n",
    "print(recall_score(y_test, y_pred), \": is the recall score\")\n",
    "print(f1_score(y_test, y_pred), \": is the f1 score\")"
   ]
  },
  {
   "cell_type": "markdown",
   "id": "ce4ce0ac",
   "metadata": {},
   "source": [
    "# For submittion"
   ]
  },
  {
   "cell_type": "code",
   "execution_count": 467,
   "id": "ecdf28db",
   "metadata": {},
   "outputs": [],
   "source": [
    "y_pred_sub = clf.predict(df_test.drop(columns=['PassengerId']))"
   ]
  },
  {
   "cell_type": "code",
   "execution_count": 468,
   "id": "dfe4423e",
   "metadata": {},
   "outputs": [
    {
     "data": {
      "text/plain": [
       "array([1, 0, 1, ..., 1, 1, 1])"
      ]
     },
     "execution_count": 468,
     "metadata": {},
     "output_type": "execute_result"
    }
   ],
   "source": [
    "y_pred_sub"
   ]
  },
  {
   "cell_type": "code",
   "execution_count": 469,
   "id": "be300930",
   "metadata": {},
   "outputs": [
    {
     "data": {
      "text/plain": [
       "array([ True, False,  True, ...,  True,  True,  True])"
      ]
     },
     "execution_count": 469,
     "metadata": {},
     "output_type": "execute_result"
    }
   ],
   "source": [
    "y = 0 < y_pred_sub\n",
    "y"
   ]
  },
  {
   "cell_type": "markdown",
   "id": "bdf8498c",
   "metadata": {},
   "source": [
    "# Save result"
   ]
  },
  {
   "cell_type": "code",
   "execution_count": 448,
   "id": "89b249ee",
   "metadata": {},
   "outputs": [],
   "source": [
    "df_submit=df_test[['PassengerId']].copy()\n",
    "df_submit['Transported']=y"
   ]
  },
  {
   "cell_type": "code",
   "execution_count": 470,
   "id": "af541379",
   "metadata": {},
   "outputs": [],
   "source": [
    "df_submit.to_csv('data/submit_3.csv',index = False)"
   ]
  },
  {
   "cell_type": "code",
   "execution_count": 471,
   "id": "de161516",
   "metadata": {},
   "outputs": [
    {
     "data": {
      "text/html": [
       "<div>\n",
       "<style scoped>\n",
       "    .dataframe tbody tr th:only-of-type {\n",
       "        vertical-align: middle;\n",
       "    }\n",
       "\n",
       "    .dataframe tbody tr th {\n",
       "        vertical-align: top;\n",
       "    }\n",
       "\n",
       "    .dataframe thead th {\n",
       "        text-align: right;\n",
       "    }\n",
       "</style>\n",
       "<table border=\"1\" class=\"dataframe\">\n",
       "  <thead>\n",
       "    <tr style=\"text-align: right;\">\n",
       "      <th></th>\n",
       "      <th>PassengerId</th>\n",
       "      <th>Transported</th>\n",
       "    </tr>\n",
       "  </thead>\n",
       "  <tbody>\n",
       "    <tr>\n",
       "      <th>0</th>\n",
       "      <td>0013_01</td>\n",
       "      <td>True</td>\n",
       "    </tr>\n",
       "    <tr>\n",
       "      <th>1</th>\n",
       "      <td>0018_01</td>\n",
       "      <td>False</td>\n",
       "    </tr>\n",
       "    <tr>\n",
       "      <th>2</th>\n",
       "      <td>0019_01</td>\n",
       "      <td>True</td>\n",
       "    </tr>\n",
       "    <tr>\n",
       "      <th>3</th>\n",
       "      <td>0021_01</td>\n",
       "      <td>True</td>\n",
       "    </tr>\n",
       "    <tr>\n",
       "      <th>4</th>\n",
       "      <td>0023_01</td>\n",
       "      <td>True</td>\n",
       "    </tr>\n",
       "    <tr>\n",
       "      <th>...</th>\n",
       "      <td>...</td>\n",
       "      <td>...</td>\n",
       "    </tr>\n",
       "    <tr>\n",
       "      <th>4272</th>\n",
       "      <td>9266_02</td>\n",
       "      <td>True</td>\n",
       "    </tr>\n",
       "    <tr>\n",
       "      <th>4273</th>\n",
       "      <td>9269_01</td>\n",
       "      <td>False</td>\n",
       "    </tr>\n",
       "    <tr>\n",
       "      <th>4274</th>\n",
       "      <td>9271_01</td>\n",
       "      <td>True</td>\n",
       "    </tr>\n",
       "    <tr>\n",
       "      <th>4275</th>\n",
       "      <td>9273_01</td>\n",
       "      <td>True</td>\n",
       "    </tr>\n",
       "    <tr>\n",
       "      <th>4276</th>\n",
       "      <td>9277_01</td>\n",
       "      <td>True</td>\n",
       "    </tr>\n",
       "  </tbody>\n",
       "</table>\n",
       "<p>4277 rows × 2 columns</p>\n",
       "</div>"
      ],
      "text/plain": [
       "     PassengerId  Transported\n",
       "0        0013_01         True\n",
       "1        0018_01        False\n",
       "2        0019_01         True\n",
       "3        0021_01         True\n",
       "4        0023_01         True\n",
       "...          ...          ...\n",
       "4272     9266_02         True\n",
       "4273     9269_01        False\n",
       "4274     9271_01         True\n",
       "4275     9273_01         True\n",
       "4276     9277_01         True\n",
       "\n",
       "[4277 rows x 2 columns]"
      ]
     },
     "execution_count": 471,
     "metadata": {},
     "output_type": "execute_result"
    }
   ],
   "source": [
    "df_submit"
   ]
  },
  {
   "cell_type": "code",
   "execution_count": null,
   "id": "9e417311",
   "metadata": {},
   "outputs": [],
   "source": []
  }
 ],
 "metadata": {
  "kernelspec": {
   "display_name": "Python 3 (ipykernel)",
   "language": "python",
   "name": "python3"
  },
  "language_info": {
   "codemirror_mode": {
    "name": "ipython",
    "version": 3
   },
   "file_extension": ".py",
   "mimetype": "text/x-python",
   "name": "python",
   "nbconvert_exporter": "python",
   "pygments_lexer": "ipython3",
   "version": "3.10.6"
  }
 },
 "nbformat": 4,
 "nbformat_minor": 5
}
