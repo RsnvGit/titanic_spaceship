{
 "cells": [
  {
   "cell_type": "code",
   "execution_count": 592,
   "id": "bff7cf60",
   "metadata": {},
   "outputs": [],
   "source": [
    "import pandas as pd \n",
    "import numpy as np\n",
    "import seaborn as sns\n",
    "import xgboost as xgb\n",
    "from sklearn.model_selection import cross_val_score,GridSearchCV\n",
    "from sklearn.metrics import accuracy_score,confusion_matrix,precision_score,recall_score,f1_score"
   ]
  },
  {
   "cell_type": "code",
   "execution_count": 593,
   "id": "3ac9cb7f",
   "metadata": {},
   "outputs": [],
   "source": [
    "df_train=pd.read_csv('data/train.csv')\n",
    "df_test=pd.read_csv('data/test.csv')"
   ]
  },
  {
   "cell_type": "code",
   "execution_count": 594,
   "id": "0ae378ac",
   "metadata": {},
   "outputs": [
    {
     "data": {
      "text/html": [
       "<div>\n",
       "<style scoped>\n",
       "    .dataframe tbody tr th:only-of-type {\n",
       "        vertical-align: middle;\n",
       "    }\n",
       "\n",
       "    .dataframe tbody tr th {\n",
       "        vertical-align: top;\n",
       "    }\n",
       "\n",
       "    .dataframe thead th {\n",
       "        text-align: right;\n",
       "    }\n",
       "</style>\n",
       "<table border=\"1\" class=\"dataframe\">\n",
       "  <thead>\n",
       "    <tr style=\"text-align: right;\">\n",
       "      <th></th>\n",
       "      <th>PassengerId</th>\n",
       "      <th>HomePlanet</th>\n",
       "      <th>CryoSleep</th>\n",
       "      <th>Cabin</th>\n",
       "      <th>Destination</th>\n",
       "      <th>Age</th>\n",
       "      <th>VIP</th>\n",
       "      <th>RoomService</th>\n",
       "      <th>FoodCourt</th>\n",
       "      <th>ShoppingMall</th>\n",
       "      <th>Spa</th>\n",
       "      <th>VRDeck</th>\n",
       "      <th>Name</th>\n",
       "    </tr>\n",
       "  </thead>\n",
       "  <tbody>\n",
       "    <tr>\n",
       "      <th>0</th>\n",
       "      <td>0013_01</td>\n",
       "      <td>Earth</td>\n",
       "      <td>True</td>\n",
       "      <td>G/3/S</td>\n",
       "      <td>TRAPPIST-1e</td>\n",
       "      <td>27.0</td>\n",
       "      <td>False</td>\n",
       "      <td>0.0</td>\n",
       "      <td>0.0</td>\n",
       "      <td>0.0</td>\n",
       "      <td>0.0</td>\n",
       "      <td>0.0</td>\n",
       "      <td>Nelly Carsoning</td>\n",
       "    </tr>\n",
       "    <tr>\n",
       "      <th>1</th>\n",
       "      <td>0018_01</td>\n",
       "      <td>Earth</td>\n",
       "      <td>False</td>\n",
       "      <td>F/4/S</td>\n",
       "      <td>TRAPPIST-1e</td>\n",
       "      <td>19.0</td>\n",
       "      <td>False</td>\n",
       "      <td>0.0</td>\n",
       "      <td>9.0</td>\n",
       "      <td>0.0</td>\n",
       "      <td>2823.0</td>\n",
       "      <td>0.0</td>\n",
       "      <td>Lerome Peckers</td>\n",
       "    </tr>\n",
       "    <tr>\n",
       "      <th>2</th>\n",
       "      <td>0019_01</td>\n",
       "      <td>Europa</td>\n",
       "      <td>True</td>\n",
       "      <td>C/0/S</td>\n",
       "      <td>55 Cancri e</td>\n",
       "      <td>31.0</td>\n",
       "      <td>False</td>\n",
       "      <td>0.0</td>\n",
       "      <td>0.0</td>\n",
       "      <td>0.0</td>\n",
       "      <td>0.0</td>\n",
       "      <td>0.0</td>\n",
       "      <td>Sabih Unhearfus</td>\n",
       "    </tr>\n",
       "    <tr>\n",
       "      <th>3</th>\n",
       "      <td>0021_01</td>\n",
       "      <td>Europa</td>\n",
       "      <td>False</td>\n",
       "      <td>C/1/S</td>\n",
       "      <td>TRAPPIST-1e</td>\n",
       "      <td>38.0</td>\n",
       "      <td>False</td>\n",
       "      <td>0.0</td>\n",
       "      <td>6652.0</td>\n",
       "      <td>0.0</td>\n",
       "      <td>181.0</td>\n",
       "      <td>585.0</td>\n",
       "      <td>Meratz Caltilter</td>\n",
       "    </tr>\n",
       "    <tr>\n",
       "      <th>4</th>\n",
       "      <td>0023_01</td>\n",
       "      <td>Earth</td>\n",
       "      <td>False</td>\n",
       "      <td>F/5/S</td>\n",
       "      <td>TRAPPIST-1e</td>\n",
       "      <td>20.0</td>\n",
       "      <td>False</td>\n",
       "      <td>10.0</td>\n",
       "      <td>0.0</td>\n",
       "      <td>635.0</td>\n",
       "      <td>0.0</td>\n",
       "      <td>0.0</td>\n",
       "      <td>Brence Harperez</td>\n",
       "    </tr>\n",
       "    <tr>\n",
       "      <th>...</th>\n",
       "      <td>...</td>\n",
       "      <td>...</td>\n",
       "      <td>...</td>\n",
       "      <td>...</td>\n",
       "      <td>...</td>\n",
       "      <td>...</td>\n",
       "      <td>...</td>\n",
       "      <td>...</td>\n",
       "      <td>...</td>\n",
       "      <td>...</td>\n",
       "      <td>...</td>\n",
       "      <td>...</td>\n",
       "      <td>...</td>\n",
       "    </tr>\n",
       "    <tr>\n",
       "      <th>4272</th>\n",
       "      <td>9266_02</td>\n",
       "      <td>Earth</td>\n",
       "      <td>True</td>\n",
       "      <td>G/1496/S</td>\n",
       "      <td>TRAPPIST-1e</td>\n",
       "      <td>34.0</td>\n",
       "      <td>False</td>\n",
       "      <td>0.0</td>\n",
       "      <td>0.0</td>\n",
       "      <td>0.0</td>\n",
       "      <td>0.0</td>\n",
       "      <td>0.0</td>\n",
       "      <td>Jeron Peter</td>\n",
       "    </tr>\n",
       "    <tr>\n",
       "      <th>4273</th>\n",
       "      <td>9269_01</td>\n",
       "      <td>Earth</td>\n",
       "      <td>False</td>\n",
       "      <td>NaN</td>\n",
       "      <td>TRAPPIST-1e</td>\n",
       "      <td>42.0</td>\n",
       "      <td>False</td>\n",
       "      <td>0.0</td>\n",
       "      <td>847.0</td>\n",
       "      <td>17.0</td>\n",
       "      <td>10.0</td>\n",
       "      <td>144.0</td>\n",
       "      <td>Matty Scheron</td>\n",
       "    </tr>\n",
       "    <tr>\n",
       "      <th>4274</th>\n",
       "      <td>9271_01</td>\n",
       "      <td>Mars</td>\n",
       "      <td>True</td>\n",
       "      <td>D/296/P</td>\n",
       "      <td>55 Cancri e</td>\n",
       "      <td>NaN</td>\n",
       "      <td>False</td>\n",
       "      <td>0.0</td>\n",
       "      <td>0.0</td>\n",
       "      <td>0.0</td>\n",
       "      <td>0.0</td>\n",
       "      <td>0.0</td>\n",
       "      <td>Jayrin Pore</td>\n",
       "    </tr>\n",
       "    <tr>\n",
       "      <th>4275</th>\n",
       "      <td>9273_01</td>\n",
       "      <td>Europa</td>\n",
       "      <td>False</td>\n",
       "      <td>D/297/P</td>\n",
       "      <td>NaN</td>\n",
       "      <td>NaN</td>\n",
       "      <td>False</td>\n",
       "      <td>0.0</td>\n",
       "      <td>2680.0</td>\n",
       "      <td>0.0</td>\n",
       "      <td>0.0</td>\n",
       "      <td>523.0</td>\n",
       "      <td>Kitakan Conale</td>\n",
       "    </tr>\n",
       "    <tr>\n",
       "      <th>4276</th>\n",
       "      <td>9277_01</td>\n",
       "      <td>Earth</td>\n",
       "      <td>True</td>\n",
       "      <td>G/1498/S</td>\n",
       "      <td>PSO J318.5-22</td>\n",
       "      <td>43.0</td>\n",
       "      <td>False</td>\n",
       "      <td>0.0</td>\n",
       "      <td>0.0</td>\n",
       "      <td>0.0</td>\n",
       "      <td>0.0</td>\n",
       "      <td>0.0</td>\n",
       "      <td>Lilace Leonzaley</td>\n",
       "    </tr>\n",
       "  </tbody>\n",
       "</table>\n",
       "<p>4277 rows × 13 columns</p>\n",
       "</div>"
      ],
      "text/plain": [
       "     PassengerId HomePlanet CryoSleep     Cabin    Destination   Age    VIP  \\\n",
       "0        0013_01      Earth      True     G/3/S    TRAPPIST-1e  27.0  False   \n",
       "1        0018_01      Earth     False     F/4/S    TRAPPIST-1e  19.0  False   \n",
       "2        0019_01     Europa      True     C/0/S    55 Cancri e  31.0  False   \n",
       "3        0021_01     Europa     False     C/1/S    TRAPPIST-1e  38.0  False   \n",
       "4        0023_01      Earth     False     F/5/S    TRAPPIST-1e  20.0  False   \n",
       "...          ...        ...       ...       ...            ...   ...    ...   \n",
       "4272     9266_02      Earth      True  G/1496/S    TRAPPIST-1e  34.0  False   \n",
       "4273     9269_01      Earth     False       NaN    TRAPPIST-1e  42.0  False   \n",
       "4274     9271_01       Mars      True   D/296/P    55 Cancri e   NaN  False   \n",
       "4275     9273_01     Europa     False   D/297/P            NaN   NaN  False   \n",
       "4276     9277_01      Earth      True  G/1498/S  PSO J318.5-22  43.0  False   \n",
       "\n",
       "      RoomService  FoodCourt  ShoppingMall     Spa  VRDeck              Name  \n",
       "0             0.0        0.0           0.0     0.0     0.0   Nelly Carsoning  \n",
       "1             0.0        9.0           0.0  2823.0     0.0    Lerome Peckers  \n",
       "2             0.0        0.0           0.0     0.0     0.0   Sabih Unhearfus  \n",
       "3             0.0     6652.0           0.0   181.0   585.0  Meratz Caltilter  \n",
       "4            10.0        0.0         635.0     0.0     0.0   Brence Harperez  \n",
       "...           ...        ...           ...     ...     ...               ...  \n",
       "4272          0.0        0.0           0.0     0.0     0.0       Jeron Peter  \n",
       "4273          0.0      847.0          17.0    10.0   144.0     Matty Scheron  \n",
       "4274          0.0        0.0           0.0     0.0     0.0       Jayrin Pore  \n",
       "4275          0.0     2680.0           0.0     0.0   523.0    Kitakan Conale  \n",
       "4276          0.0        0.0           0.0     0.0     0.0  Lilace Leonzaley  \n",
       "\n",
       "[4277 rows x 13 columns]"
      ]
     },
     "execution_count": 594,
     "metadata": {},
     "output_type": "execute_result"
    }
   ],
   "source": [
    "df_test"
   ]
  },
  {
   "cell_type": "code",
   "execution_count": 595,
   "id": "ddd4d701",
   "metadata": {},
   "outputs": [
    {
     "data": {
      "text/plain": [
       "PassengerId       0\n",
       "HomePlanet      201\n",
       "CryoSleep       217\n",
       "Cabin           199\n",
       "Destination     182\n",
       "Age             179\n",
       "VIP             203\n",
       "RoomService     181\n",
       "FoodCourt       183\n",
       "ShoppingMall    208\n",
       "Spa             183\n",
       "VRDeck          188\n",
       "Name            200\n",
       "Transported       0\n",
       "dtype: int64"
      ]
     },
     "execution_count": 595,
     "metadata": {},
     "output_type": "execute_result"
    }
   ],
   "source": [
    "df_train.isnull().sum()"
   ]
  },
  {
   "cell_type": "markdown",
   "id": "685c3ee4",
   "metadata": {},
   "source": [
    "# show distribution of values in each columns"
   ]
  },
  {
   "cell_type": "code",
   "execution_count": 596,
   "id": "3b60dbe9",
   "metadata": {},
   "outputs": [
    {
     "data": {
      "text/plain": [
       "0001_01    1\n",
       "6136_01    1\n",
       "6141_01    1\n",
       "6139_06    1\n",
       "6139_05    1\n",
       "          ..\n",
       "3126_01    1\n",
       "3124_03    1\n",
       "3124_02    1\n",
       "3124_01    1\n",
       "9280_02    1\n",
       "Name: PassengerId, Length: 8693, dtype: int64"
      ]
     },
     "metadata": {},
     "output_type": "display_data"
    },
    {
     "data": {
      "text/plain": [
       "0001_01    1\n",
       "6136_01    1\n",
       "6141_01    1\n",
       "6139_06    1\n",
       "6139_05    1\n",
       "          ..\n",
       "3126_01    1\n",
       "3124_03    1\n",
       "3124_02    1\n",
       "3124_01    1\n",
       "9280_02    1\n",
       "Name: PassengerId, Length: 8693, dtype: int64"
      ]
     },
     "metadata": {},
     "output_type": "display_data"
    },
    {
     "name": "stdout",
     "output_type": "stream",
     "text": [
      "\n"
     ]
    },
    {
     "data": {
      "text/plain": [
       "Earth     4602\n",
       "Europa    2131\n",
       "Mars      1759\n",
       "Name: HomePlanet, dtype: int64"
      ]
     },
     "metadata": {},
     "output_type": "display_data"
    },
    {
     "data": {
      "text/plain": [
       "Earth     4602\n",
       "Europa    2131\n",
       "Mars      1759\n",
       "Name: HomePlanet, dtype: int64"
      ]
     },
     "metadata": {},
     "output_type": "display_data"
    },
    {
     "name": "stdout",
     "output_type": "stream",
     "text": [
      "\n"
     ]
    },
    {
     "data": {
      "text/plain": [
       "False    5439\n",
       "True     3037\n",
       "Name: CryoSleep, dtype: int64"
      ]
     },
     "metadata": {},
     "output_type": "display_data"
    },
    {
     "data": {
      "text/plain": [
       "False    5439\n",
       "True     3037\n",
       "Name: CryoSleep, dtype: int64"
      ]
     },
     "metadata": {},
     "output_type": "display_data"
    },
    {
     "name": "stdout",
     "output_type": "stream",
     "text": [
      "\n"
     ]
    },
    {
     "data": {
      "text/plain": [
       "G/734/S     8\n",
       "G/109/P     7\n",
       "B/201/P     7\n",
       "G/1368/P    7\n",
       "G/981/S     7\n",
       "           ..\n",
       "G/556/P     1\n",
       "E/231/S     1\n",
       "G/545/S     1\n",
       "G/543/S     1\n",
       "F/947/P     1\n",
       "Name: Cabin, Length: 6560, dtype: int64"
      ]
     },
     "metadata": {},
     "output_type": "display_data"
    },
    {
     "data": {
      "text/plain": [
       "G/734/S     8\n",
       "G/109/P     7\n",
       "B/201/P     7\n",
       "G/1368/P    7\n",
       "G/981/S     7\n",
       "           ..\n",
       "G/556/P     1\n",
       "E/231/S     1\n",
       "G/545/S     1\n",
       "G/543/S     1\n",
       "F/947/P     1\n",
       "Name: Cabin, Length: 6560, dtype: int64"
      ]
     },
     "metadata": {},
     "output_type": "display_data"
    },
    {
     "name": "stdout",
     "output_type": "stream",
     "text": [
      "\n"
     ]
    },
    {
     "data": {
      "text/plain": [
       "TRAPPIST-1e      5915\n",
       "55 Cancri e      1800\n",
       "PSO J318.5-22     796\n",
       "Name: Destination, dtype: int64"
      ]
     },
     "metadata": {},
     "output_type": "display_data"
    },
    {
     "data": {
      "text/plain": [
       "TRAPPIST-1e      5915\n",
       "55 Cancri e      1800\n",
       "PSO J318.5-22     796\n",
       "Name: Destination, dtype: int64"
      ]
     },
     "metadata": {},
     "output_type": "display_data"
    },
    {
     "name": "stdout",
     "output_type": "stream",
     "text": [
      "\n"
     ]
    },
    {
     "data": {
      "text/plain": [
       "24.0    324\n",
       "18.0    320\n",
       "21.0    311\n",
       "19.0    293\n",
       "23.0    292\n",
       "       ... \n",
       "72.0      4\n",
       "78.0      3\n",
       "79.0      3\n",
       "76.0      2\n",
       "77.0      2\n",
       "Name: Age, Length: 80, dtype: int64"
      ]
     },
     "metadata": {},
     "output_type": "display_data"
    },
    {
     "data": {
      "text/plain": [
       "24.0    324\n",
       "18.0    320\n",
       "21.0    311\n",
       "19.0    293\n",
       "23.0    292\n",
       "       ... \n",
       "72.0      4\n",
       "78.0      3\n",
       "79.0      3\n",
       "76.0      2\n",
       "77.0      2\n",
       "Name: Age, Length: 80, dtype: int64"
      ]
     },
     "metadata": {},
     "output_type": "display_data"
    },
    {
     "name": "stdout",
     "output_type": "stream",
     "text": [
      "\n"
     ]
    },
    {
     "data": {
      "text/plain": [
       "False    8291\n",
       "True      199\n",
       "Name: VIP, dtype: int64"
      ]
     },
     "metadata": {},
     "output_type": "display_data"
    },
    {
     "data": {
      "text/plain": [
       "False    8291\n",
       "True      199\n",
       "Name: VIP, dtype: int64"
      ]
     },
     "metadata": {},
     "output_type": "display_data"
    },
    {
     "name": "stdout",
     "output_type": "stream",
     "text": [
      "\n"
     ]
    },
    {
     "data": {
      "text/plain": [
       "0.0       5577\n",
       "1.0        117\n",
       "2.0         79\n",
       "3.0         61\n",
       "4.0         47\n",
       "          ... \n",
       "1612.0       1\n",
       "2598.0       1\n",
       "632.0        1\n",
       "378.0        1\n",
       "745.0        1\n",
       "Name: RoomService, Length: 1273, dtype: int64"
      ]
     },
     "metadata": {},
     "output_type": "display_data"
    },
    {
     "data": {
      "text/plain": [
       "0.0       5577\n",
       "1.0        117\n",
       "2.0         79\n",
       "3.0         61\n",
       "4.0         47\n",
       "          ... \n",
       "1612.0       1\n",
       "2598.0       1\n",
       "632.0        1\n",
       "378.0        1\n",
       "745.0        1\n",
       "Name: RoomService, Length: 1273, dtype: int64"
      ]
     },
     "metadata": {},
     "output_type": "display_data"
    },
    {
     "name": "stdout",
     "output_type": "stream",
     "text": [
      "\n"
     ]
    },
    {
     "data": {
      "text/plain": [
       "0.0       5456\n",
       "1.0        116\n",
       "2.0         75\n",
       "3.0         53\n",
       "4.0         53\n",
       "          ... \n",
       "3846.0       1\n",
       "5193.0       1\n",
       "312.0        1\n",
       "827.0        1\n",
       "4688.0       1\n",
       "Name: FoodCourt, Length: 1507, dtype: int64"
      ]
     },
     "metadata": {},
     "output_type": "display_data"
    },
    {
     "data": {
      "text/plain": [
       "0.0       5456\n",
       "1.0        116\n",
       "2.0         75\n",
       "3.0         53\n",
       "4.0         53\n",
       "          ... \n",
       "3846.0       1\n",
       "5193.0       1\n",
       "312.0        1\n",
       "827.0        1\n",
       "4688.0       1\n",
       "Name: FoodCourt, Length: 1507, dtype: int64"
      ]
     },
     "metadata": {},
     "output_type": "display_data"
    },
    {
     "name": "stdout",
     "output_type": "stream",
     "text": [
      "\n"
     ]
    },
    {
     "data": {
      "text/plain": [
       "0.0       5587\n",
       "1.0        153\n",
       "2.0         80\n",
       "3.0         59\n",
       "4.0         45\n",
       "          ... \n",
       "3627.0       1\n",
       "2074.0       1\n",
       "871.0        1\n",
       "742.0        1\n",
       "1872.0       1\n",
       "Name: ShoppingMall, Length: 1115, dtype: int64"
      ]
     },
     "metadata": {},
     "output_type": "display_data"
    },
    {
     "data": {
      "text/plain": [
       "0.0       5587\n",
       "1.0        153\n",
       "2.0         80\n",
       "3.0         59\n",
       "4.0         45\n",
       "          ... \n",
       "3627.0       1\n",
       "2074.0       1\n",
       "871.0        1\n",
       "742.0        1\n",
       "1872.0       1\n",
       "Name: ShoppingMall, Length: 1115, dtype: int64"
      ]
     },
     "metadata": {},
     "output_type": "display_data"
    },
    {
     "name": "stdout",
     "output_type": "stream",
     "text": [
      "\n"
     ]
    },
    {
     "data": {
      "text/plain": [
       "0.0       5324\n",
       "1.0        146\n",
       "2.0        105\n",
       "5.0         53\n",
       "3.0         53\n",
       "          ... \n",
       "273.0        1\n",
       "2581.0       1\n",
       "2948.0       1\n",
       "3778.0       1\n",
       "1643.0       1\n",
       "Name: Spa, Length: 1327, dtype: int64"
      ]
     },
     "metadata": {},
     "output_type": "display_data"
    },
    {
     "data": {
      "text/plain": [
       "0.0       5324\n",
       "1.0        146\n",
       "2.0        105\n",
       "5.0         53\n",
       "3.0         53\n",
       "          ... \n",
       "273.0        1\n",
       "2581.0       1\n",
       "2948.0       1\n",
       "3778.0       1\n",
       "1643.0       1\n",
       "Name: Spa, Length: 1327, dtype: int64"
      ]
     },
     "metadata": {},
     "output_type": "display_data"
    },
    {
     "name": "stdout",
     "output_type": "stream",
     "text": [
      "\n"
     ]
    },
    {
     "data": {
      "text/plain": [
       "0.0       5495\n",
       "1.0        139\n",
       "2.0         70\n",
       "3.0         56\n",
       "5.0         51\n",
       "          ... \n",
       "408.0        1\n",
       "876.0        1\n",
       "2891.0       1\n",
       "2102.0       1\n",
       "3235.0       1\n",
       "Name: VRDeck, Length: 1306, dtype: int64"
      ]
     },
     "metadata": {},
     "output_type": "display_data"
    },
    {
     "data": {
      "text/plain": [
       "0.0       5495\n",
       "1.0        139\n",
       "2.0         70\n",
       "3.0         56\n",
       "5.0         51\n",
       "          ... \n",
       "408.0        1\n",
       "876.0        1\n",
       "2891.0       1\n",
       "2102.0       1\n",
       "3235.0       1\n",
       "Name: VRDeck, Length: 1306, dtype: int64"
      ]
     },
     "metadata": {},
     "output_type": "display_data"
    },
    {
     "name": "stdout",
     "output_type": "stream",
     "text": [
      "\n"
     ]
    },
    {
     "data": {
      "text/plain": [
       "Gollux Reedall        2\n",
       "Elaney Webstephrey    2\n",
       "Grake Porki           2\n",
       "Sus Coolez            2\n",
       "Apix Wala             2\n",
       "                     ..\n",
       "Jamela Griffy         1\n",
       "Hardy Griffy          1\n",
       "Salley Mckinn         1\n",
       "Mall Frasp            1\n",
       "Propsh Hontichre      1\n",
       "Name: Name, Length: 8473, dtype: int64"
      ]
     },
     "metadata": {},
     "output_type": "display_data"
    },
    {
     "data": {
      "text/plain": [
       "Gollux Reedall        2\n",
       "Elaney Webstephrey    2\n",
       "Grake Porki           2\n",
       "Sus Coolez            2\n",
       "Apix Wala             2\n",
       "                     ..\n",
       "Jamela Griffy         1\n",
       "Hardy Griffy          1\n",
       "Salley Mckinn         1\n",
       "Mall Frasp            1\n",
       "Propsh Hontichre      1\n",
       "Name: Name, Length: 8473, dtype: int64"
      ]
     },
     "metadata": {},
     "output_type": "display_data"
    },
    {
     "name": "stdout",
     "output_type": "stream",
     "text": [
      "\n"
     ]
    },
    {
     "data": {
      "text/plain": [
       "True     4378\n",
       "False    4315\n",
       "Name: Transported, dtype: int64"
      ]
     },
     "metadata": {},
     "output_type": "display_data"
    },
    {
     "data": {
      "text/plain": [
       "True     4378\n",
       "False    4315\n",
       "Name: Transported, dtype: int64"
      ]
     },
     "metadata": {},
     "output_type": "display_data"
    },
    {
     "name": "stdout",
     "output_type": "stream",
     "text": [
      "\n"
     ]
    }
   ],
   "source": [
    "for column in df_train.columns:\n",
    "    display(df_train[column].value_counts())\n",
    "    display(df_train[column].value_counts())\n",
    "    print()"
   ]
  },
  {
   "cell_type": "markdown",
   "id": "998a4e48",
   "metadata": {},
   "source": [
    "### as we see above , some of the columns distributed bad, but we can see here that most of them are numeric and most used one is 0 ,  so we can fill these nulls with 0 "
   ]
  },
  {
   "cell_type": "code",
   "execution_count": 597,
   "id": "56c74d5a",
   "metadata": {},
   "outputs": [],
   "source": [
    "df_train['VIP']=df_train['VIP'].fillna(False)\n",
    "df_test['VIP']=df_test['VIP'].fillna(False)"
   ]
  },
  {
   "cell_type": "code",
   "execution_count": 598,
   "id": "97929e91",
   "metadata": {},
   "outputs": [],
   "source": [
    "df_train['RoomService']=df_train['RoomService'].fillna(0.0)\n",
    "df_test['RoomService']=df_test['RoomService'].fillna(0.0)"
   ]
  },
  {
   "cell_type": "code",
   "execution_count": 599,
   "id": "d4ebc2be",
   "metadata": {},
   "outputs": [],
   "source": [
    "df_train['FoodCourt']=df_train['FoodCourt'].fillna(0.0)\n",
    "df_test['FoodCourt']=df_test['FoodCourt'].fillna(0.0)"
   ]
  },
  {
   "cell_type": "code",
   "execution_count": 600,
   "id": "b96e9473",
   "metadata": {},
   "outputs": [],
   "source": [
    "df_train['ShoppingMall']=df_train['ShoppingMall'].fillna(0.0)\n",
    "df_test['ShoppingMall']=df_test['ShoppingMall'].fillna(0.0)"
   ]
  },
  {
   "cell_type": "code",
   "execution_count": 601,
   "id": "01dfde80",
   "metadata": {},
   "outputs": [],
   "source": [
    "df_train['Spa']=df_train['Spa'].fillna(0.0)\n",
    "df_test['Spa']=df_test['Spa'].fillna(0.0)"
   ]
  },
  {
   "cell_type": "code",
   "execution_count": 602,
   "id": "c5761939",
   "metadata": {},
   "outputs": [],
   "source": [
    "df_train['VRDeck']=df_train['VRDeck'].fillna(0.0)\n",
    "df_test['VRDeck']=df_test['VRDeck'].fillna(0.0)"
   ]
  },
  {
   "cell_type": "code",
   "execution_count": 603,
   "id": "7eba84a8",
   "metadata": {},
   "outputs": [
    {
     "data": {
      "text/plain": [
       "PassengerId       0\n",
       "HomePlanet      201\n",
       "CryoSleep       217\n",
       "Cabin           199\n",
       "Destination     182\n",
       "Age             179\n",
       "VIP               0\n",
       "RoomService       0\n",
       "FoodCourt         0\n",
       "ShoppingMall      0\n",
       "Spa               0\n",
       "VRDeck            0\n",
       "Name            200\n",
       "Transported       0\n",
       "dtype: int64"
      ]
     },
     "execution_count": 603,
     "metadata": {},
     "output_type": "execute_result"
    }
   ],
   "source": [
    "df_train.isnull().sum()"
   ]
  },
  {
   "cell_type": "code",
   "execution_count": null,
   "id": "9b1e026f",
   "metadata": {},
   "outputs": [],
   "source": []
  },
  {
   "cell_type": "code",
   "execution_count": 604,
   "id": "5d07ce6f",
   "metadata": {},
   "outputs": [
    {
     "data": {
      "text/plain": [
       "0.8715058092718279"
      ]
     },
     "execution_count": 604,
     "metadata": {},
     "output_type": "execute_result"
    }
   ],
   "source": [
    "len(df_train.dropna())/len(df_train)"
   ]
  },
  {
   "cell_type": "code",
   "execution_count": 605,
   "id": "47af2bcc",
   "metadata": {},
   "outputs": [
    {
     "data": {
      "text/plain": [
       "0.8765489829319617"
      ]
     },
     "execution_count": 605,
     "metadata": {},
     "output_type": "execute_result"
    }
   ],
   "source": [
    "len(df_test.dropna())/len(df_test)"
   ]
  },
  {
   "cell_type": "code",
   "execution_count": 606,
   "id": "088cbd9d",
   "metadata": {},
   "outputs": [
    {
     "data": {
      "text/plain": [
       "Earth     4602\n",
       "Europa    2131\n",
       "Mars      1759\n",
       "Name: HomePlanet, dtype: int64"
      ]
     },
     "execution_count": 606,
     "metadata": {},
     "output_type": "execute_result"
    }
   ],
   "source": [
    "df_train.HomePlanet.value_counts()"
   ]
  },
  {
   "cell_type": "code",
   "execution_count": 607,
   "id": "ad3864e3",
   "metadata": {},
   "outputs": [],
   "source": [
    "df_train=df_train.dropna()\n",
    "#df_test=df_test.dropna()"
   ]
  },
  {
   "cell_type": "code",
   "execution_count": 608,
   "id": "e1c0a0aa",
   "metadata": {},
   "outputs": [],
   "source": [
    "df_test['HomePlanet']=df_test['HomePlanet'].fillna('Earth')\n",
    "df_test['CryoSleep']=df_test['CryoSleep'].fillna(False)\n",
    "df_test['Cabin']=df_test['Cabin'].fillna('G/160/P')\n",
    "df_test['Destination']=df_test['Destination'].fillna('TRAPPIST-1e')\n",
    "df_test['Age']=df_test['Age'].fillna(25.8)   # mean 28.5 # top20 mean 25.8"
   ]
  },
  {
   "cell_type": "code",
   "execution_count": 610,
   "id": "a7c689c9",
   "metadata": {},
   "outputs": [],
   "source": [
    "#df_test.RoomService.value_counts()"
   ]
  },
  {
   "cell_type": "code",
   "execution_count": 611,
   "id": "c10e43b8",
   "metadata": {},
   "outputs": [],
   "source": [
    "#df_train.Age.value_counts().to_frame().head(20)"
   ]
  },
  {
   "cell_type": "code",
   "execution_count": 612,
   "id": "a56251e2",
   "metadata": {},
   "outputs": [],
   "source": [
    "df_train['Cabin_1']=0\n",
    "df_train['Cabin_2']=0\n",
    "df_train['Cabin_3']=0\n",
    "for index,row in df_train.iterrows():\n",
    "    tmp_cabin_list=row['Cabin'].split('/')\n",
    "    df_train.at[index,'Cabin_1']=tmp_cabin_list[0]\n",
    "    df_train.at[index,'Cabin_2']=tmp_cabin_list[1]\n",
    "    df_train.at[index,'Cabin_3']=tmp_cabin_list[2]"
   ]
  },
  {
   "cell_type": "code",
   "execution_count": 613,
   "id": "d40012c5",
   "metadata": {},
   "outputs": [],
   "source": [
    "df_test['Cabin_1']=0\n",
    "df_test['Cabin_2']=0\n",
    "df_test['Cabin_3']=0\n",
    "for index,row in df_test.iterrows():\n",
    "    tmp_cabin_list=row['Cabin'].split('/')\n",
    "    df_test.at[index,'Cabin_1']=tmp_cabin_list[0]\n",
    "    df_test.at[index,'Cabin_2']=tmp_cabin_list[1]\n",
    "    df_test.at[index,'Cabin_3']=tmp_cabin_list[2]"
   ]
  },
  {
   "cell_type": "code",
   "execution_count": 614,
   "id": "8a87ae69",
   "metadata": {},
   "outputs": [],
   "source": [
    "df_train.drop(columns=['Cabin'],inplace=True)\n",
    "df_test.drop(columns=['Cabin'],inplace=True)"
   ]
  },
  {
   "cell_type": "code",
   "execution_count": 615,
   "id": "77868dba",
   "metadata": {},
   "outputs": [],
   "source": [
    "df_train['Cabin_2']=df_train.Cabin_2.apply(pd.to_numeric)\n",
    "df_test['Cabin_2']=df_test.Cabin_2.apply(pd.to_numeric)"
   ]
  },
  {
   "cell_type": "markdown",
   "id": "8156bd8f",
   "metadata": {},
   "source": [
    "# Work with Name columns"
   ]
  },
  {
   "cell_type": "code",
   "execution_count": 616,
   "id": "f940618a",
   "metadata": {},
   "outputs": [],
   "source": [
    "all_name=list(set(df_train.Name).union(set(df_test.Name)))"
   ]
  },
  {
   "cell_type": "code",
   "execution_count": 617,
   "id": "f0f4075f",
   "metadata": {},
   "outputs": [],
   "source": [
    "names_with_id=dict()\n",
    "for i in range(len(all_name)):\n",
    "    names_with_id[all_name[i]]=i"
   ]
  },
  {
   "cell_type": "code",
   "execution_count": 618,
   "id": "c538c81a",
   "metadata": {},
   "outputs": [],
   "source": [
    "df_train['Name_encoded']=0\n",
    "for index,row in df_train.iterrows():\n",
    "    df_train.at[index,'Name_encoded']=names_with_id[row['Name']]"
   ]
  },
  {
   "cell_type": "code",
   "execution_count": 619,
   "id": "784a0c48",
   "metadata": {},
   "outputs": [],
   "source": [
    "df_test['Name_encoded']=0\n",
    "for index,row in df_test.iterrows():\n",
    "    df_test.at[index,'Name_encoded']=names_with_id[row['Name']]"
   ]
  },
  {
   "cell_type": "code",
   "execution_count": 620,
   "id": "68514dd1",
   "metadata": {},
   "outputs": [],
   "source": [
    "df_train.drop(columns=['Name'],inplace=True)\n",
    "df_test.drop(columns=['Name'],inplace=True)"
   ]
  },
  {
   "cell_type": "code",
   "execution_count": 621,
   "id": "73e3d4a4",
   "metadata": {},
   "outputs": [],
   "source": [
    "df_train.drop(columns=['Name_encoded'],inplace=True)\n",
    "df_test.drop(columns=['Name_encoded'],inplace=True)"
   ]
  },
  {
   "cell_type": "code",
   "execution_count": 622,
   "id": "ddd6a7a0",
   "metadata": {},
   "outputs": [],
   "source": [
    "# Multiple categorical columns\n",
    "categorical_cols = ['HomePlanet', 'CryoSleep', 'Destination', 'VIP','Cabin_1','Cabin_3']\n",
    "\n",
    "df_train=pd.get_dummies(df_train, columns=categorical_cols).copy()\n",
    "df_test=pd.get_dummies(df_test, columns=categorical_cols).copy()"
   ]
  },
  {
   "cell_type": "code",
   "execution_count": 623,
   "id": "68b62647",
   "metadata": {},
   "outputs": [],
   "source": [
    "from sklearn.model_selection import train_test_split\n",
    "from sklearn.naive_bayes import GaussianNB\n",
    "from sklearn import metrics\n",
    "from sklearn.model_selection import GridSearchCV"
   ]
  },
  {
   "cell_type": "code",
   "execution_count": null,
   "id": "92a7ed84",
   "metadata": {},
   "outputs": [],
   "source": []
  },
  {
   "cell_type": "markdown",
   "id": "4f94895c",
   "metadata": {},
   "source": [
    "### For local test train the train data "
   ]
  },
  {
   "cell_type": "code",
   "execution_count": 624,
   "id": "8f788856",
   "metadata": {},
   "outputs": [],
   "source": [
    "# splitting X and y into training and testing sets\n",
    "X_train, X_test, y_train, y_test = train_test_split(df_train.drop(columns=['PassengerId','Transported']),\n",
    "                                                    df_train['Transported'], test_size=0.3, random_state=42)\n"
   ]
  },
  {
   "cell_type": "code",
   "execution_count": 625,
   "id": "29f55b9e",
   "metadata": {},
   "outputs": [
    {
     "name": "stdout",
     "output_type": "stream",
     "text": [
      "Gaussian Naive Bayes model accuracy(in %): 75.14298284205894\n"
     ]
    }
   ],
   "source": [
    "# training the model on training set\n",
    "gnb = GaussianNB()\n",
    "gnb.fit(X_train, y_train)\n",
    "\n",
    "# making predictions on the testing set\n",
    "y_pred = gnb.predict(X_test)\n",
    "  \n",
    "# comparing actual response values (y_test) with predicted response values (y_pred)\n",
    "print(\"Gaussian Naive Bayes model accuracy(in %):\", metrics.accuracy_score(y_test, y_pred)*100)"
   ]
  },
  {
   "cell_type": "code",
   "execution_count": null,
   "id": "deb5a2f8",
   "metadata": {},
   "outputs": [],
   "source": []
  },
  {
   "cell_type": "markdown",
   "id": "aae6eb64",
   "metadata": {},
   "source": [
    "# hyperparameter tuning"
   ]
  },
  {
   "cell_type": "code",
   "execution_count": 626,
   "id": "3e2c4e26",
   "metadata": {},
   "outputs": [],
   "source": [
    "# import packages for hyperparameters tuning\n",
    "from hyperopt import STATUS_OK, Trials, fmin, hp, tpe"
   ]
  },
  {
   "cell_type": "code",
   "execution_count": 627,
   "id": "80939a3f",
   "metadata": {},
   "outputs": [],
   "source": [
    "space={'max_depth': hp.quniform(\"max_depth\", 3, 10, 1),\n",
    "        'gamma': hp.uniform ('gamma', 1,20),\n",
    "        'learning_rate': hp.quniform('learning_rate', 0,2,0.01),\n",
    "        'max_delta_step':hp.uniform ('max_delta_step', 0,10),\n",
    "        'reg_alpha' : hp.quniform('reg_alpha', 0,180,1),\n",
    "        'reg_lambda' : hp.uniform('reg_lambda', 0,1),\n",
    "        'min_child_weight' : hp.uniform('min_child_weight', 0, 10),\n",
    "        'n_estimators': 100,\n",
    "        'seed': 10\n",
    "    }    "
   ]
  },
  {
   "cell_type": "code",
   "execution_count": 628,
   "id": "27d8f70b",
   "metadata": {},
   "outputs": [],
   "source": [
    "def objective(space):\n",
    "    clf=xgb.XGBClassifier(\n",
    "                    n_estimators =space['n_estimators'],\n",
    "                    max_depth = int(space['max_depth']), \n",
    "                    gamma = space['gamma'],\n",
    "                    reg_alpha = space['reg_alpha'],\n",
    "                    min_child_weight=int(space['min_child_weight']),\n",
    "                    max_delta_step=int(space['max_delta_step']),\n",
    "                    learning_rate=space['learning_rate'],\n",
    "                    seed=space['seed'],\n",
    "                    eval_metric='auc',\n",
    "                    early_stopping_rounds=15\n",
    "    )\n",
    "    \n",
    "    evaluation = [( X_train, y_train), ( X_test, y_test)]\n",
    "    \n",
    "    clf.fit(X_train, y_train,\n",
    "            eval_set=evaluation,\n",
    "            verbose=False)\n",
    "    \n",
    "\n",
    "    pred = clf.predict(X_test)\n",
    "    accuracy = accuracy_score(y_test, pred>0.5)\n",
    "    print (\"SCORE:\", accuracy)\n",
    "    return {'loss': -accuracy, 'status': STATUS_OK }"
   ]
  },
  {
   "cell_type": "code",
   "execution_count": 629,
   "id": "c9089229",
   "metadata": {
    "scrolled": true
   },
   "outputs": [
    {
     "name": "stdout",
     "output_type": "stream",
     "text": [
      "SCORE:                                                                          \n",
      "0.7699076110866696                                                              \n",
      "SCORE:                                                                          \n",
      "0.7932248130224373                                                              \n",
      "SCORE:                                                                          \n",
      "0.7773867135943687                                                              \n",
      "SCORE:                                                                          \n",
      "0.796304443466784                                                               \n",
      "SCORE:                                                                          \n",
      "0.7971843378794544                                                              \n",
      "SCORE:                                                                          \n",
      "0.7936647602287725                                                              \n",
      "SCORE:                                                                          \n",
      "0.7866256049274087                                                              \n",
      "SCORE:                                                                          \n",
      "0.7804663440387154                                                              \n",
      "SCORE:                                                                          \n",
      "0.7998240211174659                                                              \n",
      "SCORE:                                                                          \n",
      "0.7892652881654202                                                              \n",
      "SCORE:                                                                          \n",
      "0.7936647602287725                                                              \n",
      "SCORE:                                                                          \n",
      "0.7998240211174659                                                              \n",
      "SCORE:                                                                          \n",
      "0.7839859216893973                                                              \n",
      "SCORE:                                                                          \n",
      "0.7976242850857898                                                              \n",
      "SCORE:                                                                          \n",
      "0.772547294324681                                                               \n",
      "SCORE:                                                                          \n",
      "0.772547294324681                                                               \n",
      "SCORE:                                                                          \n",
      "0.7729872415310163                                                              \n",
      "SCORE:                                                                          \n",
      "0.7919049714034316                                                              \n",
      "SCORE:                                                                          \n",
      "0.798064232292125                                                               \n",
      "SCORE:                                                                          \n",
      "0.7822261328640563                                                              \n",
      "SCORE:                                                                          \n",
      "0.8007039155301364                                                              \n",
      "SCORE:                                                                          \n",
      "0.5050593928728553                                                              \n",
      "SCORE:                                                                          \n",
      "0.8024637043554773                                                              \n",
      "SCORE:                                                                          \n",
      "0.7905851297844259                                                              \n",
      "SCORE:                                                                          \n",
      "0.7637483501979763                                                              \n",
      "SCORE:                                                                          \n",
      "0.7976242850857898                                                              \n",
      "SCORE:                                                                          \n",
      "0.8051033875934888                                                              \n",
      "SCORE:                                                                          \n",
      "0.787065552133744                                                               \n",
      "SCORE:                                                                          \n",
      "0.805543334799824                                                               \n",
      "SCORE:                                                                          \n",
      "0.8037835459744831                                                              \n",
      "SCORE:                                                                          \n",
      "0.7976242850857898                                                              \n",
      "SCORE:                                                                          \n",
      "0.785305763308403                                                               \n",
      "SCORE:                                                                          \n",
      "0.8020237571491421                                                              \n",
      "SCORE:                                                                          \n",
      "0.8059832820061592                                                              \n",
      "SCORE:                                                                          \n",
      "0.8029036515618125                                                              \n",
      "SCORE:                                                                          \n",
      "0.7685877694676638                                                              \n",
      "SCORE:                                                                          \n",
      "0.8046634403871535                                                              \n",
      "SCORE:                                                                          \n",
      "0.7949846018477783                                                              \n",
      "SCORE:                                                                          \n",
      "0.8051033875934888                                                              \n",
      "SCORE:                                                                          \n",
      "0.7949846018477783                                                              \n",
      "SCORE:                                                                          \n",
      "0.7817861856577211                                                              \n",
      "SCORE:                                                                          \n",
      "0.7976242850857898                                                              \n",
      "SCORE:                                                                          \n",
      "0.7817861856577211                                                              \n",
      "SCORE:                                                                          \n",
      "0.7919049714034316                                                              \n",
      "SCORE:                                                                          \n",
      "0.7791465024197096                                                              \n",
      "SCORE:                                                                          \n",
      "0.7949846018477783                                                              \n",
      "SCORE:                                                                          \n",
      "0.7967443906731192                                                              \n",
      "SCORE:                                                                          \n",
      "0.7976242850857898                                                              \n",
      "SCORE:                                                                          \n",
      "0.8037835459744831                                                              \n",
      "SCORE:                                                                          \n",
      "0.7839859216893973                                                              \n",
      "SCORE:                                                                          \n"
     ]
    },
    {
     "name": "stdout",
     "output_type": "stream",
     "text": [
      "0.8011438627364716                                                              \n",
      "SCORE:                                                                          \n",
      "0.7809062912450506                                                              \n",
      "SCORE:                                                                          \n",
      "0.7699076110866696                                                              \n",
      "SCORE:                                                                          \n",
      "0.7993840739111306                                                              \n",
      "SCORE:                                                                          \n",
      "0.7857457105147382                                                              \n",
      "SCORE:                                                                          \n",
      "0.7927848658161021                                                              \n",
      "SCORE:                                                                          \n",
      "0.8068631764188298                                                              \n",
      "SCORE:                                                                          \n",
      "0.796304443466784                                                               \n",
      "SCORE:                                                                          \n",
      "0.5050593928728553                                                              \n",
      "SCORE:                                                                          \n",
      "0.7822261328640563                                                              \n",
      "SCORE:                                                                          \n",
      "0.8068631764188298                                                              \n",
      "SCORE:                                                                          \n",
      "0.8046634403871535                                                              \n",
      "SCORE:                                                                          \n",
      "0.7949846018477783                                                              \n",
      "SCORE:                                                                          \n",
      "0.8007039155301364                                                              \n",
      "SCORE:                                                                          \n",
      "0.8007039155301364                                                              \n",
      "SCORE:                                                                          \n",
      "0.7993840739111306                                                              \n",
      "SCORE:                                                                          \n",
      "0.8086229652441707                                                              \n",
      "SCORE:                                                                          \n",
      "0.8020237571491421                                                              \n",
      "SCORE:                                                                          \n",
      "0.8064232292124945                                                              \n",
      "SCORE:                                                                          \n",
      "0.8011438627364716                                                              \n",
      "SCORE:                                                                          \n",
      "0.8051033875934888                                                              \n",
      "SCORE:                                                                          \n",
      "0.8015838099428069                                                              \n",
      "SCORE:                                                                          \n",
      "0.8121425428948527                                                              \n",
      "SCORE:                                                                          \n",
      "0.8086229652441707                                                              \n",
      "SCORE:                                                                          \n",
      "0.805543334799824                                                               \n",
      "SCORE:                                                                          \n",
      "0.8108227012758469                                                              \n",
      "SCORE:                                                                          \n",
      "0.7989441267047954                                                              \n",
      "SCORE:                                                                          \n",
      "0.772547294324681                                                               \n",
      "SCORE:                                                                          \n",
      "0.8042234931808183                                                              \n",
      "SCORE:                                                                          \n",
      "0.7998240211174659                                                              \n",
      "SCORE:                                                                          \n",
      "0.8020237571491421                                                              \n",
      "SCORE:                                                                          \n",
      "0.798064232292125                                                               \n",
      "SCORE:                                                                          \n",
      "0.8015838099428069                                                              \n",
      "SCORE:                                                                          \n",
      "0.7782666080070392                                                              \n",
      "SCORE:                                                                          \n",
      "0.7949846018477783                                                              \n",
      "SCORE:                                                                          \n",
      "0.7976242850857898                                                              \n",
      "SCORE:                                                                          \n",
      "0.8068631764188298                                                              \n",
      "SCORE:                                                                          \n",
      "0.788825340959085                                                               \n",
      "SCORE:                                                                          \n",
      "0.8046634403871535                                                              \n",
      "SCORE:                                                                          \n",
      "0.8037835459744831                                                              \n",
      "SCORE:                                                                          \n",
      "0.7976242850857898                                                              \n",
      "SCORE:                                                                          \n",
      "0.7967443906731192                                                              \n",
      "SCORE:                                                                          \n",
      "0.8051033875934888                                                              \n",
      "SCORE:                                                                          \n",
      "0.7734271887373515                                                              \n",
      "SCORE:                                                                          \n",
      "0.7989441267047954                                                              \n",
      "SCORE:                                                                          \n",
      "0.7927848658161021                                                              \n",
      "SCORE:                                                                          \n",
      "0.798064232292125                                                               \n",
      "SCORE:                                                                          \n",
      "0.7734271887373515                                                              \n",
      "SCORE:                                                                          \n",
      "0.8099428068631764                                                              \n",
      "SCORE:                                                                          \n",
      "0.8020237571491421                                                              \n",
      "100%|██████| 100/100 [00:10<00:00,  9.49trial/s, best loss: -0.8121425428948527]\n"
     ]
    }
   ],
   "source": [
    "trials = Trials()\n",
    "\n",
    "best_hyperparams = fmin(fn = objective,\n",
    "                        space = space,\n",
    "                        algo = tpe.suggest,\n",
    "                        max_evals = 100,\n",
    "                        trials = trials)"
   ]
  },
  {
   "cell_type": "code",
   "execution_count": 630,
   "id": "74435cd5",
   "metadata": {},
   "outputs": [
    {
     "name": "stdout",
     "output_type": "stream",
     "text": [
      "The best hyperparameters are :  \n",
      "\n",
      "{'gamma': 6.292394181673046, 'learning_rate': 0.72, 'max_delta_step': 4.620635033415536, 'max_depth': 9.0, 'min_child_weight': 3.6258537974193343, 'reg_alpha': 4.0, 'reg_lambda': 0.5948154199928402}\n"
     ]
    }
   ],
   "source": [
    "print(\"The best hyperparameters are : \",\"\\n\")\n",
    "print(best_hyperparams)"
   ]
  },
  {
   "cell_type": "code",
   "execution_count": 631,
   "id": "dca1b659",
   "metadata": {},
   "outputs": [
    {
     "name": "stdout",
     "output_type": "stream",
     "text": [
      "SCORE: 0.807303123625165\n"
     ]
    }
   ],
   "source": [
    "clf=xgb.XGBClassifier(\n",
    "    max_depth = int(best_hyperparams['max_depth']),\n",
    "    gamma = best_hyperparams['gamma'],\n",
    "    reg_alpha = best_hyperparams['reg_alpha'],\n",
    "    min_child_weight=best_hyperparams['min_child_weight'],\n",
    "    learning_rate=best_hyperparams['learning_rate'],\n",
    "    max_delta_step=best_hyperparams['max_delta_step'],\n",
    "    \n",
    "    \n",
    ")\n",
    "evaluation = [( X_train, y_train), ( X_test, y_test)]\n",
    "    \n",
    "clf.fit(X_train, y_train,\n",
    "        eval_set=evaluation,\n",
    "        verbose=False)\n",
    "    \n",
    "\n",
    "y_pred = clf.predict(X_test)\n",
    "accuracy = accuracy_score(y_test, y_pred>0.5)\n",
    "print (\"SCORE:\", accuracy)"
   ]
  },
  {
   "cell_type": "code",
   "execution_count": 632,
   "id": "c2b26d79",
   "metadata": {},
   "outputs": [
    {
     "name": "stdout",
     "output_type": "stream",
     "text": [
      "[[915 233]\n",
      " [205 920]] : is the confusion matrix\n",
      "0.807303123625165 : is the accuracy score\n",
      "0.797918473547268 : is the precision score\n",
      "0.8177777777777778 : is the recall score\n",
      "0.8077260755048288 : is the f1 score\n"
     ]
    }
   ],
   "source": [
    "print(confusion_matrix(y_test, y_pred), \": is the confusion matrix\")\n",
    "print(accuracy_score(y_test, y_pred), \": is the accuracy score\")\n",
    "print(precision_score(y_test, y_pred), \": is the precision score\")\n",
    "print(recall_score(y_test, y_pred), \": is the recall score\")\n",
    "print(f1_score(y_test, y_pred), \": is the f1 score\")"
   ]
  },
  {
   "cell_type": "markdown",
   "id": "ce4ce0ac",
   "metadata": {},
   "source": [
    "# For submittion"
   ]
  },
  {
   "cell_type": "code",
   "execution_count": 467,
   "id": "ecdf28db",
   "metadata": {},
   "outputs": [],
   "source": [
    "y_pred_sub = clf.predict(df_test.drop(columns=['PassengerId']))"
   ]
  },
  {
   "cell_type": "code",
   "execution_count": 468,
   "id": "dfe4423e",
   "metadata": {},
   "outputs": [
    {
     "data": {
      "text/plain": [
       "array([1, 0, 1, ..., 1, 1, 1])"
      ]
     },
     "execution_count": 468,
     "metadata": {},
     "output_type": "execute_result"
    }
   ],
   "source": [
    "y_pred_sub"
   ]
  },
  {
   "cell_type": "code",
   "execution_count": 469,
   "id": "be300930",
   "metadata": {},
   "outputs": [
    {
     "data": {
      "text/plain": [
       "array([ True, False,  True, ...,  True,  True,  True])"
      ]
     },
     "execution_count": 469,
     "metadata": {},
     "output_type": "execute_result"
    }
   ],
   "source": [
    "y = 0 < y_pred_sub\n",
    "y"
   ]
  },
  {
   "cell_type": "markdown",
   "id": "bdf8498c",
   "metadata": {},
   "source": [
    "# Save result"
   ]
  },
  {
   "cell_type": "code",
   "execution_count": 448,
   "id": "89b249ee",
   "metadata": {},
   "outputs": [],
   "source": [
    "df_submit=df_test[['PassengerId']].copy()\n",
    "df_submit['Transported']=y"
   ]
  },
  {
   "cell_type": "code",
   "execution_count": 470,
   "id": "af541379",
   "metadata": {},
   "outputs": [],
   "source": [
    "df_submit.to_csv('data/submit_3.csv',index = False)"
   ]
  },
  {
   "cell_type": "code",
   "execution_count": 471,
   "id": "de161516",
   "metadata": {},
   "outputs": [
    {
     "data": {
      "text/html": [
       "<div>\n",
       "<style scoped>\n",
       "    .dataframe tbody tr th:only-of-type {\n",
       "        vertical-align: middle;\n",
       "    }\n",
       "\n",
       "    .dataframe tbody tr th {\n",
       "        vertical-align: top;\n",
       "    }\n",
       "\n",
       "    .dataframe thead th {\n",
       "        text-align: right;\n",
       "    }\n",
       "</style>\n",
       "<table border=\"1\" class=\"dataframe\">\n",
       "  <thead>\n",
       "    <tr style=\"text-align: right;\">\n",
       "      <th></th>\n",
       "      <th>PassengerId</th>\n",
       "      <th>Transported</th>\n",
       "    </tr>\n",
       "  </thead>\n",
       "  <tbody>\n",
       "    <tr>\n",
       "      <th>0</th>\n",
       "      <td>0013_01</td>\n",
       "      <td>True</td>\n",
       "    </tr>\n",
       "    <tr>\n",
       "      <th>1</th>\n",
       "      <td>0018_01</td>\n",
       "      <td>False</td>\n",
       "    </tr>\n",
       "    <tr>\n",
       "      <th>2</th>\n",
       "      <td>0019_01</td>\n",
       "      <td>True</td>\n",
       "    </tr>\n",
       "    <tr>\n",
       "      <th>3</th>\n",
       "      <td>0021_01</td>\n",
       "      <td>True</td>\n",
       "    </tr>\n",
       "    <tr>\n",
       "      <th>4</th>\n",
       "      <td>0023_01</td>\n",
       "      <td>True</td>\n",
       "    </tr>\n",
       "    <tr>\n",
       "      <th>...</th>\n",
       "      <td>...</td>\n",
       "      <td>...</td>\n",
       "    </tr>\n",
       "    <tr>\n",
       "      <th>4272</th>\n",
       "      <td>9266_02</td>\n",
       "      <td>True</td>\n",
       "    </tr>\n",
       "    <tr>\n",
       "      <th>4273</th>\n",
       "      <td>9269_01</td>\n",
       "      <td>False</td>\n",
       "    </tr>\n",
       "    <tr>\n",
       "      <th>4274</th>\n",
       "      <td>9271_01</td>\n",
       "      <td>True</td>\n",
       "    </tr>\n",
       "    <tr>\n",
       "      <th>4275</th>\n",
       "      <td>9273_01</td>\n",
       "      <td>True</td>\n",
       "    </tr>\n",
       "    <tr>\n",
       "      <th>4276</th>\n",
       "      <td>9277_01</td>\n",
       "      <td>True</td>\n",
       "    </tr>\n",
       "  </tbody>\n",
       "</table>\n",
       "<p>4277 rows × 2 columns</p>\n",
       "</div>"
      ],
      "text/plain": [
       "     PassengerId  Transported\n",
       "0        0013_01         True\n",
       "1        0018_01        False\n",
       "2        0019_01         True\n",
       "3        0021_01         True\n",
       "4        0023_01         True\n",
       "...          ...          ...\n",
       "4272     9266_02         True\n",
       "4273     9269_01        False\n",
       "4274     9271_01         True\n",
       "4275     9273_01         True\n",
       "4276     9277_01         True\n",
       "\n",
       "[4277 rows x 2 columns]"
      ]
     },
     "execution_count": 471,
     "metadata": {},
     "output_type": "execute_result"
    }
   ],
   "source": [
    "df_submit"
   ]
  },
  {
   "cell_type": "code",
   "execution_count": null,
   "id": "9e417311",
   "metadata": {},
   "outputs": [],
   "source": []
  },
  {
   "cell_type": "code",
   "execution_count": null,
   "id": "9a2f6a4c",
   "metadata": {},
   "outputs": [],
   "source": []
  },
  {
   "cell_type": "code",
   "execution_count": null,
   "id": "7acd5fee",
   "metadata": {},
   "outputs": [],
   "source": []
  },
  {
   "cell_type": "code",
   "execution_count": null,
   "id": "0bc78d31",
   "metadata": {},
   "outputs": [],
   "source": []
  },
  {
   "cell_type": "code",
   "execution_count": null,
   "id": "10b3e9af",
   "metadata": {},
   "outputs": [],
   "source": []
  },
  {
   "cell_type": "code",
   "execution_count": null,
   "id": "b96fbb8c",
   "metadata": {},
   "outputs": [],
   "source": []
  }
 ],
 "metadata": {
  "kernelspec": {
   "display_name": "Python 3 (ipykernel)",
   "language": "python",
   "name": "python3"
  },
  "language_info": {
   "codemirror_mode": {
    "name": "ipython",
    "version": 3
   },
   "file_extension": ".py",
   "mimetype": "text/x-python",
   "name": "python",
   "nbconvert_exporter": "python",
   "pygments_lexer": "ipython3",
   "version": "3.10.6"
  }
 },
 "nbformat": 4,
 "nbformat_minor": 5
}
